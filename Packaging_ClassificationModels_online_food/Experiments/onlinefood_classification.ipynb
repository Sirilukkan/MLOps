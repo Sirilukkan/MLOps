{
 "cells": [
  {
   "cell_type": "markdown",
   "id": "451f1422",
   "metadata": {},
   "source": [
    "# Objective"
   ]
  },
  {
   "cell_type": "markdown",
   "id": "23d71855",
   "metadata": {},
   "source": [
    "* Explore data relationship between demographic/location factors and online food ordering behavior. \n",
    "* Analyze customer feedback to improve service quality  \n",
    "* predict customer preferences or behavior based on other attributes\n"
   ]
  },
  {
   "cell_type": "code",
   "execution_count": 90,
   "id": "fc82e84b",
   "metadata": {},
   "outputs": [],
   "source": [
    "# Import necessary libraries to read and clean data\n",
    "import numpy as np\n",
    "import pandas as pd\n",
    "\n",
    "import seaborn as sns\n",
    "import matplotlib.pyplot as plt\n",
    "\n",
    "import warnings\n",
    "warnings.filterwarnings('ignore')\n",
    "\n",
    "#Import imputer to imput missing data\n",
    "from sklearn.impute import SimpleImputer\n",
    "\n",
    "#Import encoder to encode categorical data\n",
    "from sklearn.preprocessing import LabelEncoder"
   ]
  },
  {
   "cell_type": "markdown",
   "id": "cd4810a0",
   "metadata": {},
   "source": [
    "## Data Analysis"
   ]
  },
  {
   "cell_type": "code",
   "execution_count": 169,
   "id": "bfd69b62",
   "metadata": {},
   "outputs": [
    {
     "data": {
      "text/html": [
       "<div>\n",
       "<style scoped>\n",
       "    .dataframe tbody tr th:only-of-type {\n",
       "        vertical-align: middle;\n",
       "    }\n",
       "\n",
       "    .dataframe tbody tr th {\n",
       "        vertical-align: top;\n",
       "    }\n",
       "\n",
       "    .dataframe thead th {\n",
       "        text-align: right;\n",
       "    }\n",
       "</style>\n",
       "<table border=\"1\" class=\"dataframe\">\n",
       "  <thead>\n",
       "    <tr style=\"text-align: right;\">\n",
       "      <th></th>\n",
       "      <th>Age</th>\n",
       "      <th>Gender</th>\n",
       "      <th>Marital Status</th>\n",
       "      <th>Occupation</th>\n",
       "      <th>Monthly Income</th>\n",
       "      <th>Educational Qualifications</th>\n",
       "      <th>Family size</th>\n",
       "      <th>latitude</th>\n",
       "      <th>longitude</th>\n",
       "      <th>Pin code</th>\n",
       "      <th>Output</th>\n",
       "      <th>Feedback</th>\n",
       "      <th>Unnamed: 12</th>\n",
       "    </tr>\n",
       "  </thead>\n",
       "  <tbody>\n",
       "    <tr>\n",
       "      <th>0</th>\n",
       "      <td>20</td>\n",
       "      <td>Female</td>\n",
       "      <td>Single</td>\n",
       "      <td>Student</td>\n",
       "      <td>No Income</td>\n",
       "      <td>Post Graduate</td>\n",
       "      <td>4</td>\n",
       "      <td>12.9766</td>\n",
       "      <td>77.5993</td>\n",
       "      <td>560001</td>\n",
       "      <td>Yes</td>\n",
       "      <td>Positive</td>\n",
       "      <td>Yes</td>\n",
       "    </tr>\n",
       "    <tr>\n",
       "      <th>1</th>\n",
       "      <td>24</td>\n",
       "      <td>Female</td>\n",
       "      <td>Single</td>\n",
       "      <td>Student</td>\n",
       "      <td>Below Rs.10000</td>\n",
       "      <td>Graduate</td>\n",
       "      <td>3</td>\n",
       "      <td>12.9770</td>\n",
       "      <td>77.5773</td>\n",
       "      <td>560009</td>\n",
       "      <td>Yes</td>\n",
       "      <td>Positive</td>\n",
       "      <td>Yes</td>\n",
       "    </tr>\n",
       "    <tr>\n",
       "      <th>2</th>\n",
       "      <td>22</td>\n",
       "      <td>Male</td>\n",
       "      <td>Single</td>\n",
       "      <td>Student</td>\n",
       "      <td>Below Rs.10000</td>\n",
       "      <td>Post Graduate</td>\n",
       "      <td>3</td>\n",
       "      <td>12.9551</td>\n",
       "      <td>77.6593</td>\n",
       "      <td>560017</td>\n",
       "      <td>Yes</td>\n",
       "      <td>Negative</td>\n",
       "      <td>Yes</td>\n",
       "    </tr>\n",
       "    <tr>\n",
       "      <th>3</th>\n",
       "      <td>22</td>\n",
       "      <td>Female</td>\n",
       "      <td>Single</td>\n",
       "      <td>Student</td>\n",
       "      <td>No Income</td>\n",
       "      <td>Graduate</td>\n",
       "      <td>6</td>\n",
       "      <td>12.9473</td>\n",
       "      <td>77.5616</td>\n",
       "      <td>560019</td>\n",
       "      <td>Yes</td>\n",
       "      <td>Positive</td>\n",
       "      <td>Yes</td>\n",
       "    </tr>\n",
       "    <tr>\n",
       "      <th>4</th>\n",
       "      <td>22</td>\n",
       "      <td>Male</td>\n",
       "      <td>Single</td>\n",
       "      <td>Student</td>\n",
       "      <td>Below Rs.10000</td>\n",
       "      <td>Post Graduate</td>\n",
       "      <td>4</td>\n",
       "      <td>12.9850</td>\n",
       "      <td>77.5533</td>\n",
       "      <td>560010</td>\n",
       "      <td>Yes</td>\n",
       "      <td>Positive</td>\n",
       "      <td>Yes</td>\n",
       "    </tr>\n",
       "  </tbody>\n",
       "</table>\n",
       "</div>"
      ],
      "text/plain": [
       "   Age  Gender Marital Status Occupation  Monthly Income  \\\n",
       "0   20  Female         Single    Student       No Income   \n",
       "1   24  Female         Single    Student  Below Rs.10000   \n",
       "2   22    Male         Single    Student  Below Rs.10000   \n",
       "3   22  Female         Single    Student       No Income   \n",
       "4   22    Male         Single    Student  Below Rs.10000   \n",
       "\n",
       "  Educational Qualifications  Family size  latitude  longitude  Pin code  \\\n",
       "0              Post Graduate            4   12.9766    77.5993    560001   \n",
       "1                   Graduate            3   12.9770    77.5773    560009   \n",
       "2              Post Graduate            3   12.9551    77.6593    560017   \n",
       "3                   Graduate            6   12.9473    77.5616    560019   \n",
       "4              Post Graduate            4   12.9850    77.5533    560010   \n",
       "\n",
       "  Output   Feedback Unnamed: 12  \n",
       "0    Yes   Positive         Yes  \n",
       "1    Yes   Positive         Yes  \n",
       "2    Yes  Negative          Yes  \n",
       "3    Yes   Positive         Yes  \n",
       "4    Yes   Positive         Yes  "
      ]
     },
     "execution_count": 169,
     "metadata": {},
     "output_type": "execute_result"
    }
   ],
   "source": [
    "raw_df = pd.read_csv('onlinefoods.csv')\n",
    "raw_df.head()"
   ]
  },
  {
   "cell_type": "code",
   "execution_count": 175,
   "id": "ae9e7a22",
   "metadata": {},
   "outputs": [
    {
     "data": {
      "text/plain": [
       "array(['Positive', 'Negative '], dtype=object)"
      ]
     },
     "execution_count": 175,
     "metadata": {},
     "output_type": "execute_result"
    }
   ],
   "source": [
    "raw_df['Feedback'].unique()"
   ]
  },
  {
   "cell_type": "code",
   "execution_count": 113,
   "id": "a85c063d",
   "metadata": {},
   "outputs": [],
   "source": [
    "#copy data to not overwrite original data\n",
    "df = raw_df.copy()"
   ]
  },
  {
   "cell_type": "code",
   "execution_count": 114,
   "id": "d8c7e305",
   "metadata": {},
   "outputs": [
    {
     "data": {
      "text/plain": [
       "(388, 13)"
      ]
     },
     "execution_count": 114,
     "metadata": {},
     "output_type": "execute_result"
    }
   ],
   "source": [
    "df.shape"
   ]
  },
  {
   "cell_type": "code",
   "execution_count": 115,
   "id": "873d3bab",
   "metadata": {},
   "outputs": [
    {
     "name": "stdout",
     "output_type": "stream",
     "text": [
      "<class 'pandas.core.frame.DataFrame'>\n",
      "RangeIndex: 388 entries, 0 to 387\n",
      "Data columns (total 13 columns):\n",
      " #   Column                      Non-Null Count  Dtype  \n",
      "---  ------                      --------------  -----  \n",
      " 0   Age                         388 non-null    int64  \n",
      " 1   Gender                      388 non-null    object \n",
      " 2   Marital Status              388 non-null    object \n",
      " 3   Occupation                  388 non-null    object \n",
      " 4   Monthly Income              388 non-null    object \n",
      " 5   Educational Qualifications  388 non-null    object \n",
      " 6   Family size                 388 non-null    int64  \n",
      " 7   latitude                    388 non-null    float64\n",
      " 8   longitude                   388 non-null    float64\n",
      " 9   Pin code                    388 non-null    int64  \n",
      " 10  Output                      388 non-null    object \n",
      " 11  Feedback                    388 non-null    object \n",
      " 12  Unnamed: 12                 388 non-null    object \n",
      "dtypes: float64(2), int64(3), object(8)\n",
      "memory usage: 39.5+ KB\n"
     ]
    }
   ],
   "source": [
    "df.info()"
   ]
  },
  {
   "cell_type": "markdown",
   "id": "5d26096b",
   "metadata": {},
   "source": [
    "From above seem like they are no missing value and with 388 non-null. Output is the current status of ordering"
   ]
  },
  {
   "cell_type": "code",
   "execution_count": 116,
   "id": "6a793257",
   "metadata": {},
   "outputs": [
    {
     "data": {
      "text/plain": [
       "Age                           16\n",
       "Gender                         2\n",
       "Marital Status                 3\n",
       "Occupation                     4\n",
       "Monthly Income                 5\n",
       "Educational Qualifications     5\n",
       "Family size                    6\n",
       "latitude                      77\n",
       "longitude                     76\n",
       "Pin code                      77\n",
       "Output                         2\n",
       "Feedback                       2\n",
       "Unnamed: 12                    2\n",
       "dtype: int64"
      ]
     },
     "execution_count": 116,
     "metadata": {},
     "output_type": "execute_result"
    }
   ],
   "source": [
    "df.nunique()"
   ]
  },
  {
   "cell_type": "code",
   "execution_count": 117,
   "id": "65e4669c",
   "metadata": {},
   "outputs": [
    {
     "data": {
      "text/plain": [
       "Index(['Age', 'Gender', 'Marital Status', 'Occupation', 'Monthly Income',\n",
       "       'Educational Qualifications', 'Family size', 'latitude', 'longitude',\n",
       "       'Pin code', 'Output', 'Feedback'],\n",
       "      dtype='object')"
      ]
     },
     "execution_count": 117,
     "metadata": {},
     "output_type": "execute_result"
    }
   ],
   "source": [
    "# we can drop the Unnamed columns because we do not know how what are that columns for\n",
    "df = df.drop(columns='Unnamed: 12')\n",
    "df.columns"
   ]
  },
  {
   "cell_type": "code",
   "execution_count": 118,
   "id": "46915089",
   "metadata": {},
   "outputs": [
    {
     "data": {
      "text/html": [
       "<div>\n",
       "<style scoped>\n",
       "    .dataframe tbody tr th:only-of-type {\n",
       "        vertical-align: middle;\n",
       "    }\n",
       "\n",
       "    .dataframe tbody tr th {\n",
       "        vertical-align: top;\n",
       "    }\n",
       "\n",
       "    .dataframe thead th {\n",
       "        text-align: right;\n",
       "    }\n",
       "</style>\n",
       "<table border=\"1\" class=\"dataframe\">\n",
       "  <thead>\n",
       "    <tr style=\"text-align: right;\">\n",
       "      <th></th>\n",
       "      <th>Age</th>\n",
       "      <th>Gender</th>\n",
       "      <th>Marital Status</th>\n",
       "      <th>Occupation</th>\n",
       "      <th>Monthly Income</th>\n",
       "      <th>Educational Qualifications</th>\n",
       "      <th>Family size</th>\n",
       "      <th>latitude</th>\n",
       "      <th>longitude</th>\n",
       "      <th>Pin code</th>\n",
       "      <th>Output</th>\n",
       "      <th>Feedback</th>\n",
       "    </tr>\n",
       "  </thead>\n",
       "  <tbody>\n",
       "    <tr>\n",
       "      <th>43</th>\n",
       "      <td>22</td>\n",
       "      <td>Female</td>\n",
       "      <td>Single</td>\n",
       "      <td>Student</td>\n",
       "      <td>No Income</td>\n",
       "      <td>Post Graduate</td>\n",
       "      <td>5</td>\n",
       "      <td>12.9850</td>\n",
       "      <td>77.5533</td>\n",
       "      <td>560010</td>\n",
       "      <td>Yes</td>\n",
       "      <td>Positive</td>\n",
       "    </tr>\n",
       "    <tr>\n",
       "      <th>48</th>\n",
       "      <td>23</td>\n",
       "      <td>Female</td>\n",
       "      <td>Single</td>\n",
       "      <td>Student</td>\n",
       "      <td>No Income</td>\n",
       "      <td>Graduate</td>\n",
       "      <td>3</td>\n",
       "      <td>12.9820</td>\n",
       "      <td>77.6256</td>\n",
       "      <td>560008</td>\n",
       "      <td>Yes</td>\n",
       "      <td>Negative</td>\n",
       "    </tr>\n",
       "    <tr>\n",
       "      <th>49</th>\n",
       "      <td>22</td>\n",
       "      <td>Female</td>\n",
       "      <td>Single</td>\n",
       "      <td>Student</td>\n",
       "      <td>10001 to 25000</td>\n",
       "      <td>Post Graduate</td>\n",
       "      <td>5</td>\n",
       "      <td>12.9850</td>\n",
       "      <td>77.5533</td>\n",
       "      <td>560010</td>\n",
       "      <td>Yes</td>\n",
       "      <td>Positive</td>\n",
       "    </tr>\n",
       "    <tr>\n",
       "      <th>52</th>\n",
       "      <td>24</td>\n",
       "      <td>Male</td>\n",
       "      <td>Single</td>\n",
       "      <td>Student</td>\n",
       "      <td>No Income</td>\n",
       "      <td>Post Graduate</td>\n",
       "      <td>3</td>\n",
       "      <td>12.9770</td>\n",
       "      <td>77.5773</td>\n",
       "      <td>560009</td>\n",
       "      <td>Yes</td>\n",
       "      <td>Positive</td>\n",
       "    </tr>\n",
       "    <tr>\n",
       "      <th>60</th>\n",
       "      <td>23</td>\n",
       "      <td>Male</td>\n",
       "      <td>Single</td>\n",
       "      <td>Student</td>\n",
       "      <td>No Income</td>\n",
       "      <td>Post Graduate</td>\n",
       "      <td>5</td>\n",
       "      <td>12.8988</td>\n",
       "      <td>77.5764</td>\n",
       "      <td>560078</td>\n",
       "      <td>Yes</td>\n",
       "      <td>Positive</td>\n",
       "    </tr>\n",
       "    <tr>\n",
       "      <th>...</th>\n",
       "      <td>...</td>\n",
       "      <td>...</td>\n",
       "      <td>...</td>\n",
       "      <td>...</td>\n",
       "      <td>...</td>\n",
       "      <td>...</td>\n",
       "      <td>...</td>\n",
       "      <td>...</td>\n",
       "      <td>...</td>\n",
       "      <td>...</td>\n",
       "      <td>...</td>\n",
       "      <td>...</td>\n",
       "    </tr>\n",
       "    <tr>\n",
       "      <th>382</th>\n",
       "      <td>24</td>\n",
       "      <td>Female</td>\n",
       "      <td>Single</td>\n",
       "      <td>Student</td>\n",
       "      <td>No Income</td>\n",
       "      <td>Post Graduate</td>\n",
       "      <td>3</td>\n",
       "      <td>12.9828</td>\n",
       "      <td>77.6131</td>\n",
       "      <td>560042</td>\n",
       "      <td>Yes</td>\n",
       "      <td>Positive</td>\n",
       "    </tr>\n",
       "    <tr>\n",
       "      <th>383</th>\n",
       "      <td>23</td>\n",
       "      <td>Female</td>\n",
       "      <td>Single</td>\n",
       "      <td>Student</td>\n",
       "      <td>No Income</td>\n",
       "      <td>Post Graduate</td>\n",
       "      <td>2</td>\n",
       "      <td>12.9766</td>\n",
       "      <td>77.5993</td>\n",
       "      <td>560001</td>\n",
       "      <td>Yes</td>\n",
       "      <td>Positive</td>\n",
       "    </tr>\n",
       "    <tr>\n",
       "      <th>384</th>\n",
       "      <td>23</td>\n",
       "      <td>Female</td>\n",
       "      <td>Single</td>\n",
       "      <td>Student</td>\n",
       "      <td>No Income</td>\n",
       "      <td>Post Graduate</td>\n",
       "      <td>4</td>\n",
       "      <td>12.9854</td>\n",
       "      <td>77.7081</td>\n",
       "      <td>560048</td>\n",
       "      <td>Yes</td>\n",
       "      <td>Positive</td>\n",
       "    </tr>\n",
       "    <tr>\n",
       "      <th>385</th>\n",
       "      <td>22</td>\n",
       "      <td>Female</td>\n",
       "      <td>Single</td>\n",
       "      <td>Student</td>\n",
       "      <td>No Income</td>\n",
       "      <td>Post Graduate</td>\n",
       "      <td>5</td>\n",
       "      <td>12.9850</td>\n",
       "      <td>77.5533</td>\n",
       "      <td>560010</td>\n",
       "      <td>Yes</td>\n",
       "      <td>Positive</td>\n",
       "    </tr>\n",
       "    <tr>\n",
       "      <th>387</th>\n",
       "      <td>23</td>\n",
       "      <td>Male</td>\n",
       "      <td>Single</td>\n",
       "      <td>Student</td>\n",
       "      <td>No Income</td>\n",
       "      <td>Post Graduate</td>\n",
       "      <td>5</td>\n",
       "      <td>12.8988</td>\n",
       "      <td>77.5764</td>\n",
       "      <td>560078</td>\n",
       "      <td>Yes</td>\n",
       "      <td>Positive</td>\n",
       "    </tr>\n",
       "  </tbody>\n",
       "</table>\n",
       "<p>103 rows × 12 columns</p>\n",
       "</div>"
      ],
      "text/plain": [
       "     Age  Gender Marital Status Occupation  Monthly Income  \\\n",
       "43    22  Female         Single    Student       No Income   \n",
       "48    23  Female         Single    Student       No Income   \n",
       "49    22  Female         Single    Student  10001 to 25000   \n",
       "52    24    Male         Single    Student       No Income   \n",
       "60    23    Male         Single    Student       No Income   \n",
       "..   ...     ...            ...        ...             ...   \n",
       "382   24  Female         Single    Student       No Income   \n",
       "383   23  Female         Single    Student       No Income   \n",
       "384   23  Female         Single    Student       No Income   \n",
       "385   22  Female         Single    Student       No Income   \n",
       "387   23    Male         Single    Student       No Income   \n",
       "\n",
       "    Educational Qualifications  Family size  latitude  longitude  Pin code  \\\n",
       "43               Post Graduate            5   12.9850    77.5533    560010   \n",
       "48                    Graduate            3   12.9820    77.6256    560008   \n",
       "49               Post Graduate            5   12.9850    77.5533    560010   \n",
       "52               Post Graduate            3   12.9770    77.5773    560009   \n",
       "60               Post Graduate            5   12.8988    77.5764    560078   \n",
       "..                         ...          ...       ...        ...       ...   \n",
       "382              Post Graduate            3   12.9828    77.6131    560042   \n",
       "383              Post Graduate            2   12.9766    77.5993    560001   \n",
       "384              Post Graduate            4   12.9854    77.7081    560048   \n",
       "385              Post Graduate            5   12.9850    77.5533    560010   \n",
       "387              Post Graduate            5   12.8988    77.5764    560078   \n",
       "\n",
       "    Output   Feedback  \n",
       "43     Yes   Positive  \n",
       "48     Yes  Negative   \n",
       "49     Yes   Positive  \n",
       "52     Yes   Positive  \n",
       "60     Yes   Positive  \n",
       "..     ...        ...  \n",
       "382    Yes   Positive  \n",
       "383    Yes   Positive  \n",
       "384    Yes   Positive  \n",
       "385    Yes   Positive  \n",
       "387    Yes   Positive  \n",
       "\n",
       "[103 rows x 12 columns]"
      ]
     },
     "execution_count": 118,
     "metadata": {},
     "output_type": "execute_result"
    }
   ],
   "source": [
    "#check duplicate data\n",
    "df[df.duplicated()]"
   ]
  },
  {
   "cell_type": "code",
   "execution_count": 119,
   "id": "11c8818e",
   "metadata": {},
   "outputs": [
    {
     "data": {
      "text/plain": [
       "388"
      ]
     },
     "execution_count": 119,
     "metadata": {},
     "output_type": "execute_result"
    }
   ],
   "source": [
    "103+285"
   ]
  },
  {
   "cell_type": "code",
   "execution_count": 120,
   "id": "74d6c380",
   "metadata": {},
   "outputs": [
    {
     "data": {
      "text/plain": [
       "(285, 12)"
      ]
     },
     "execution_count": 120,
     "metadata": {},
     "output_type": "execute_result"
    }
   ],
   "source": [
    "#drop duplicate\n",
    "df.drop_duplicates(inplace=True, keep='first')\n",
    "df.shape"
   ]
  },
  {
   "cell_type": "code",
   "execution_count": 121,
   "id": "ace4154a",
   "metadata": {},
   "outputs": [
    {
     "data": {
      "text/plain": [
       "Age                           0\n",
       "Gender                        0\n",
       "Marital Status                0\n",
       "Occupation                    0\n",
       "Monthly Income                0\n",
       "Educational Qualifications    0\n",
       "Family size                   0\n",
       "latitude                      0\n",
       "longitude                     0\n",
       "Pin code                      0\n",
       "Output                        0\n",
       "Feedback                      0\n",
       "dtype: int64"
      ]
     },
     "execution_count": 121,
     "metadata": {},
     "output_type": "execute_result"
    }
   ],
   "source": [
    "df.isnull().sum()"
   ]
  },
  {
   "cell_type": "code",
   "execution_count": 122,
   "id": "d3c75e59",
   "metadata": {},
   "outputs": [],
   "source": [
    "#numerical columns\n",
    "num_col = df.select_dtypes(include=['int64','float64']).columns.tolist()"
   ]
  },
  {
   "cell_type": "code",
   "execution_count": 123,
   "id": "0a02c49d",
   "metadata": {},
   "outputs": [
    {
     "data": {
      "text/plain": [
       "['Age', 'Family size', 'latitude', 'longitude', 'Pin code']"
      ]
     },
     "execution_count": 123,
     "metadata": {},
     "output_type": "execute_result"
    }
   ],
   "source": [
    "num_col"
   ]
  },
  {
   "cell_type": "code",
   "execution_count": 124,
   "id": "58b3f9b2",
   "metadata": {},
   "outputs": [
    {
     "data": {
      "image/png": "[encoded data removed]",
      "text/plain": [
       "<Figure size 800x600 with 1 Axes>"
      ]
     },
     "metadata": {},
     "output_type": "display_data"
    },
    {
     "data": {
      "image/png": "[encoded data removed]",
      "text/plain": [
       "<Figure size 800x600 with 1 Axes>"
      ]
     },
     "metadata": {},
     "output_type": "display_data"
    },
    {
     "data": {
      "image/png": "[encoded data removed]",
      "text/plain": [
       "<Figure size 800x600 with 1 Axes>"
      ]
     },
     "metadata": {},
     "output_type": "display_data"
    },
    {
     "data": {
      "image/png": "[encoded data removed]",
      "text/plain": [
       "<Figure size 800x600 with 1 Axes>"
      ]
     },
     "metadata": {},
     "output_type": "display_data"
    },
    {
     "data": {
      "image/png": "[encoded data removed]",
      "text/plain": [
       "<Figure size 800x600 with 1 Axes>"
      ]
     },
     "metadata": {},
     "output_type": "display_data"
    }
   ],
   "source": [
    "for col in num_col:\n",
    "    plt.figure(figsize=(8, 6))\n",
    "    sns.histplot(df[col], kde=True, color='skyblue')\n",
    "    plt.title(f'Distribution of {col}')\n",
    "    plt.xlabel(col)\n",
    "    plt.ylabel('Frequency')\n",
    "    plt.show()"
   ]
  },
  {
   "cell_type": "markdown",
   "id": "98fc2dd1",
   "metadata": {},
   "source": [
    "From the above, distribution of family size, Pincode is not normally distribute. We can do log transformation on them. However, to keep is simple, I won't do log transformation"
   ]
  },
  {
   "cell_type": "code",
   "execution_count": 125,
   "id": "b5503868",
   "metadata": {},
   "outputs": [],
   "source": [
    "#df[num_col]"
   ]
  },
  {
   "cell_type": "code",
   "execution_count": 126,
   "id": "49b4095b",
   "metadata": {},
   "outputs": [],
   "source": [
    "# df[num_col] = np.log(df[num_col])\n",
    "# df[num_col]"
   ]
  },
  {
   "cell_type": "code",
   "execution_count": 127,
   "id": "6bdb908b",
   "metadata": {},
   "outputs": [
    {
     "data": {
      "text/plain": [
       "['Gender',\n",
       " 'Marital Status',\n",
       " 'Occupation',\n",
       " 'Monthly Income',\n",
       " 'Educational Qualifications',\n",
       " 'Output',\n",
       " 'Feedback']"
      ]
     },
     "execution_count": 127,
     "metadata": {},
     "output_type": "execute_result"
    }
   ],
   "source": [
    "# We do not have the missing value so we can just transform categorical to numerical\n",
    "# check cat columns\n",
    "cat_col = df.select_dtypes(include=['object']).columns.tolist()\n",
    "cat_col"
   ]
  },
  {
   "cell_type": "code",
   "execution_count": 128,
   "id": "3e002142",
   "metadata": {},
   "outputs": [],
   "source": [
    "#Apply label encoder to all categorical data\n",
    "for col in cat_col:\n",
    "    le = LabelEncoder()\n",
    "    df[col] = le.fit_transform(df[col])"
   ]
  },
  {
   "cell_type": "code",
   "execution_count": 129,
   "id": "b64bbdbe",
   "metadata": {},
   "outputs": [
    {
     "data": {
      "text/plain": [
       "0      560001\n",
       "1      560009\n",
       "2      560017\n",
       "3      560019\n",
       "4      560010\n",
       "        ...  \n",
       "355    560046\n",
       "363    560085\n",
       "369    560095\n",
       "374    560092\n",
       "386    560009\n",
       "Name: Pin code, Length: 285, dtype: int64"
      ]
     },
     "execution_count": 129,
     "metadata": {},
     "output_type": "execute_result"
    }
   ],
   "source": [
    "df['Pin code']"
   ]
  },
  {
   "cell_type": "code",
   "execution_count": 130,
   "id": "8740de80",
   "metadata": {},
   "outputs": [],
   "source": [
    "df['Pin code'] = np.log(df['Pin code'])"
   ]
  },
  {
   "cell_type": "code",
   "execution_count": 131,
   "id": "465d3511",
   "metadata": {},
   "outputs": [
    {
     "data": {
      "text/plain": [
       "0      13.235694\n",
       "1      13.235708\n",
       "2      13.235722\n",
       "3      13.235726\n",
       "4      13.235710\n",
       "         ...    \n",
       "355    13.235774\n",
       "363    13.235844\n",
       "369    13.235862\n",
       "374    13.235856\n",
       "386    13.235708\n",
       "Name: Pin code, Length: 285, dtype: float64"
      ]
     },
     "execution_count": 131,
     "metadata": {},
     "output_type": "execute_result"
    }
   ],
   "source": [
    "df['Pin code'] "
   ]
  },
  {
   "cell_type": "markdown",
   "id": "c89092e3",
   "metadata": {},
   "source": [
    "**Feedback is an output that we also need to encode to 0 for negative and 1 for positive.**"
   ]
  },
  {
   "cell_type": "code",
   "execution_count": 132,
   "id": "780de8e6",
   "metadata": {},
   "outputs": [
    {
     "name": "stdout",
     "output_type": "stream",
     "text": [
      "<class 'pandas.core.frame.DataFrame'>\n",
      "Int64Index: 285 entries, 0 to 386\n",
      "Data columns (total 12 columns):\n",
      " #   Column                      Non-Null Count  Dtype  \n",
      "---  ------                      --------------  -----  \n",
      " 0   Age                         285 non-null    int64  \n",
      " 1   Gender                      285 non-null    int64  \n",
      " 2   Marital Status              285 non-null    int64  \n",
      " 3   Occupation                  285 non-null    int64  \n",
      " 4   Monthly Income              285 non-null    int64  \n",
      " 5   Educational Qualifications  285 non-null    int64  \n",
      " 6   Family size                 285 non-null    int64  \n",
      " 7   latitude                    285 non-null    float64\n",
      " 8   longitude                   285 non-null    float64\n",
      " 9   Pin code                    285 non-null    float64\n",
      " 10  Output                      285 non-null    int64  \n",
      " 11  Feedback                    285 non-null    int64  \n",
      "dtypes: float64(3), int64(9)\n",
      "memory usage: 28.9 KB\n"
     ]
    }
   ],
   "source": [
    "df.info()"
   ]
  },
  {
   "cell_type": "code",
   "execution_count": 138,
   "id": "329bf37d",
   "metadata": {},
   "outputs": [],
   "source": [
    "df = df1.copy()"
   ]
  },
  {
   "cell_type": "code",
   "execution_count": 139,
   "id": "49787b16",
   "metadata": {},
   "outputs": [
    {
     "data": {
      "text/html": [
       "<div>\n",
       "<style scoped>\n",
       "    .dataframe tbody tr th:only-of-type {\n",
       "        vertical-align: middle;\n",
       "    }\n",
       "\n",
       "    .dataframe tbody tr th {\n",
       "        vertical-align: top;\n",
       "    }\n",
       "\n",
       "    .dataframe thead th {\n",
       "        text-align: right;\n",
       "    }\n",
       "</style>\n",
       "<table border=\"1\" class=\"dataframe\">\n",
       "  <thead>\n",
       "    <tr style=\"text-align: right;\">\n",
       "      <th></th>\n",
       "      <th>Age</th>\n",
       "      <th>Gender</th>\n",
       "      <th>Marital Status</th>\n",
       "      <th>Occupation</th>\n",
       "      <th>Monthly Income</th>\n",
       "      <th>Educational Qualifications</th>\n",
       "      <th>Family size</th>\n",
       "      <th>latitude</th>\n",
       "      <th>longitude</th>\n",
       "      <th>Pin code</th>\n",
       "      <th>Output</th>\n",
       "      <th>Feedback</th>\n",
       "    </tr>\n",
       "  </thead>\n",
       "  <tbody>\n",
       "    <tr>\n",
       "      <th>0</th>\n",
       "      <td>20</td>\n",
       "      <td>0</td>\n",
       "      <td>2</td>\n",
       "      <td>3</td>\n",
       "      <td>4</td>\n",
       "      <td>2</td>\n",
       "      <td>4</td>\n",
       "      <td>12.9766</td>\n",
       "      <td>77.5993</td>\n",
       "      <td>13.235694</td>\n",
       "      <td>1</td>\n",
       "      <td>1</td>\n",
       "    </tr>\n",
       "    <tr>\n",
       "      <th>1</th>\n",
       "      <td>24</td>\n",
       "      <td>0</td>\n",
       "      <td>2</td>\n",
       "      <td>3</td>\n",
       "      <td>2</td>\n",
       "      <td>0</td>\n",
       "      <td>3</td>\n",
       "      <td>12.9770</td>\n",
       "      <td>77.5773</td>\n",
       "      <td>13.235708</td>\n",
       "      <td>1</td>\n",
       "      <td>1</td>\n",
       "    </tr>\n",
       "    <tr>\n",
       "      <th>2</th>\n",
       "      <td>22</td>\n",
       "      <td>1</td>\n",
       "      <td>2</td>\n",
       "      <td>3</td>\n",
       "      <td>2</td>\n",
       "      <td>2</td>\n",
       "      <td>3</td>\n",
       "      <td>12.9551</td>\n",
       "      <td>77.6593</td>\n",
       "      <td>13.235722</td>\n",
       "      <td>1</td>\n",
       "      <td>0</td>\n",
       "    </tr>\n",
       "    <tr>\n",
       "      <th>3</th>\n",
       "      <td>22</td>\n",
       "      <td>0</td>\n",
       "      <td>2</td>\n",
       "      <td>3</td>\n",
       "      <td>4</td>\n",
       "      <td>0</td>\n",
       "      <td>6</td>\n",
       "      <td>12.9473</td>\n",
       "      <td>77.5616</td>\n",
       "      <td>13.235726</td>\n",
       "      <td>1</td>\n",
       "      <td>1</td>\n",
       "    </tr>\n",
       "    <tr>\n",
       "      <th>4</th>\n",
       "      <td>22</td>\n",
       "      <td>1</td>\n",
       "      <td>2</td>\n",
       "      <td>3</td>\n",
       "      <td>2</td>\n",
       "      <td>2</td>\n",
       "      <td>4</td>\n",
       "      <td>12.9850</td>\n",
       "      <td>77.5533</td>\n",
       "      <td>13.235710</td>\n",
       "      <td>1</td>\n",
       "      <td>1</td>\n",
       "    </tr>\n",
       "    <tr>\n",
       "      <th>...</th>\n",
       "      <td>...</td>\n",
       "      <td>...</td>\n",
       "      <td>...</td>\n",
       "      <td>...</td>\n",
       "      <td>...</td>\n",
       "      <td>...</td>\n",
       "      <td>...</td>\n",
       "      <td>...</td>\n",
       "      <td>...</td>\n",
       "      <td>...</td>\n",
       "      <td>...</td>\n",
       "      <td>...</td>\n",
       "    </tr>\n",
       "    <tr>\n",
       "      <th>355</th>\n",
       "      <td>21</td>\n",
       "      <td>1</td>\n",
       "      <td>2</td>\n",
       "      <td>3</td>\n",
       "      <td>4</td>\n",
       "      <td>0</td>\n",
       "      <td>2</td>\n",
       "      <td>13.0012</td>\n",
       "      <td>77.5995</td>\n",
       "      <td>13.235774</td>\n",
       "      <td>0</td>\n",
       "      <td>1</td>\n",
       "    </tr>\n",
       "    <tr>\n",
       "      <th>363</th>\n",
       "      <td>31</td>\n",
       "      <td>1</td>\n",
       "      <td>0</td>\n",
       "      <td>0</td>\n",
       "      <td>3</td>\n",
       "      <td>1</td>\n",
       "      <td>3</td>\n",
       "      <td>12.9306</td>\n",
       "      <td>77.5434</td>\n",
       "      <td>13.235844</td>\n",
       "      <td>1</td>\n",
       "      <td>1</td>\n",
       "    </tr>\n",
       "    <tr>\n",
       "      <th>369</th>\n",
       "      <td>30</td>\n",
       "      <td>1</td>\n",
       "      <td>0</td>\n",
       "      <td>0</td>\n",
       "      <td>3</td>\n",
       "      <td>2</td>\n",
       "      <td>6</td>\n",
       "      <td>12.9369</td>\n",
       "      <td>77.6407</td>\n",
       "      <td>13.235862</td>\n",
       "      <td>1</td>\n",
       "      <td>1</td>\n",
       "    </tr>\n",
       "    <tr>\n",
       "      <th>374</th>\n",
       "      <td>21</td>\n",
       "      <td>1</td>\n",
       "      <td>2</td>\n",
       "      <td>3</td>\n",
       "      <td>4</td>\n",
       "      <td>0</td>\n",
       "      <td>3</td>\n",
       "      <td>13.0641</td>\n",
       "      <td>77.5931</td>\n",
       "      <td>13.235856</td>\n",
       "      <td>1</td>\n",
       "      <td>0</td>\n",
       "    </tr>\n",
       "    <tr>\n",
       "      <th>386</th>\n",
       "      <td>23</td>\n",
       "      <td>1</td>\n",
       "      <td>2</td>\n",
       "      <td>3</td>\n",
       "      <td>2</td>\n",
       "      <td>2</td>\n",
       "      <td>2</td>\n",
       "      <td>12.9770</td>\n",
       "      <td>77.5773</td>\n",
       "      <td>13.235708</td>\n",
       "      <td>1</td>\n",
       "      <td>1</td>\n",
       "    </tr>\n",
       "  </tbody>\n",
       "</table>\n",
       "<p>285 rows × 12 columns</p>\n",
       "</div>"
      ],
      "text/plain": [
       "     Age  Gender  Marital Status  Occupation  Monthly Income  \\\n",
       "0     20       0               2           3               4   \n",
       "1     24       0               2           3               2   \n",
       "2     22       1               2           3               2   \n",
       "3     22       0               2           3               4   \n",
       "4     22       1               2           3               2   \n",
       "..   ...     ...             ...         ...             ...   \n",
       "355   21       1               2           3               4   \n",
       "363   31       1               0           0               3   \n",
       "369   30       1               0           0               3   \n",
       "374   21       1               2           3               4   \n",
       "386   23       1               2           3               2   \n",
       "\n",
       "     Educational Qualifications  Family size  latitude  longitude   Pin code  \\\n",
       "0                             2            4   12.9766    77.5993  13.235694   \n",
       "1                             0            3   12.9770    77.5773  13.235708   \n",
       "2                             2            3   12.9551    77.6593  13.235722   \n",
       "3                             0            6   12.9473    77.5616  13.235726   \n",
       "4                             2            4   12.9850    77.5533  13.235710   \n",
       "..                          ...          ...       ...        ...        ...   \n",
       "355                           0            2   13.0012    77.5995  13.235774   \n",
       "363                           1            3   12.9306    77.5434  13.235844   \n",
       "369                           2            6   12.9369    77.6407  13.235862   \n",
       "374                           0            3   13.0641    77.5931  13.235856   \n",
       "386                           2            2   12.9770    77.5773  13.235708   \n",
       "\n",
       "     Output  Feedback  \n",
       "0         1         1  \n",
       "1         1         1  \n",
       "2         1         0  \n",
       "3         1         1  \n",
       "4         1         1  \n",
       "..      ...       ...  \n",
       "355       0         1  \n",
       "363       1         1  \n",
       "369       1         1  \n",
       "374       1         0  \n",
       "386       1         1  \n",
       "\n",
       "[285 rows x 12 columns]"
      ]
     },
     "execution_count": 139,
     "metadata": {},
     "output_type": "execute_result"
    }
   ],
   "source": [
    "df"
   ]
  },
  {
   "cell_type": "code",
   "execution_count": 140,
   "id": "f8bd1a9b",
   "metadata": {},
   "outputs": [],
   "source": [
    "df1 = df.copy()"
   ]
  },
  {
   "cell_type": "code",
   "execution_count": 141,
   "id": "d9bfd0a7",
   "metadata": {},
   "outputs": [],
   "source": [
    "df1 = df1.iloc[:,:-1]"
   ]
  },
  {
   "cell_type": "code",
   "execution_count": 142,
   "id": "75a605cc",
   "metadata": {},
   "outputs": [
    {
     "data": {
      "application/javascript": [
       "\n",
       "        if (window._pyforest_update_imports_cell) { window._pyforest_update_imports_cell('from sklearn import metrics\\nfrom sklearn.preprocessing import MinMaxScaler\\nfrom sklearn.model_selection import GridSearchCV\\nimport os'); }\n",
       "    "
      ],
      "text/plain": [
       "<IPython.core.display.Javascript object>"
      ]
     },
     "metadata": {},
     "output_type": "display_data"
    },
    {
     "data": {
      "text/html": [
       "<div>\n",
       "<style scoped>\n",
       "    .dataframe tbody tr th:only-of-type {\n",
       "        vertical-align: middle;\n",
       "    }\n",
       "\n",
       "    .dataframe tbody tr th {\n",
       "        vertical-align: top;\n",
       "    }\n",
       "\n",
       "    .dataframe thead th {\n",
       "        text-align: right;\n",
       "    }\n",
       "</style>\n",
       "<table border=\"1\" class=\"dataframe\">\n",
       "  <thead>\n",
       "    <tr style=\"text-align: right;\">\n",
       "      <th></th>\n",
       "      <th>Age</th>\n",
       "      <th>Gender</th>\n",
       "      <th>Marital Status</th>\n",
       "      <th>Occupation</th>\n",
       "      <th>Monthly Income</th>\n",
       "      <th>Educational Qualifications</th>\n",
       "      <th>Family size</th>\n",
       "      <th>latitude</th>\n",
       "      <th>longitude</th>\n",
       "      <th>Pin code</th>\n",
       "      <th>Output</th>\n",
       "    </tr>\n",
       "  </thead>\n",
       "  <tbody>\n",
       "    <tr>\n",
       "      <th>0</th>\n",
       "      <td>0.133333</td>\n",
       "      <td>0.0</td>\n",
       "      <td>1.0</td>\n",
       "      <td>1.0</td>\n",
       "      <td>1.00</td>\n",
       "      <td>0.50</td>\n",
       "      <td>0.6</td>\n",
       "      <td>0.470439</td>\n",
       "      <td>0.420073</td>\n",
       "      <td>0.000000</td>\n",
       "      <td>1.0</td>\n",
       "    </tr>\n",
       "    <tr>\n",
       "      <th>1</th>\n",
       "      <td>0.400000</td>\n",
       "      <td>0.0</td>\n",
       "      <td>1.0</td>\n",
       "      <td>1.0</td>\n",
       "      <td>0.50</td>\n",
       "      <td>0.00</td>\n",
       "      <td>0.4</td>\n",
       "      <td>0.472128</td>\n",
       "      <td>0.339781</td>\n",
       "      <td>0.074081</td>\n",
       "      <td>1.0</td>\n",
       "    </tr>\n",
       "    <tr>\n",
       "      <th>2</th>\n",
       "      <td>0.266667</td>\n",
       "      <td>1.0</td>\n",
       "      <td>1.0</td>\n",
       "      <td>1.0</td>\n",
       "      <td>0.50</td>\n",
       "      <td>0.50</td>\n",
       "      <td>0.4</td>\n",
       "      <td>0.379645</td>\n",
       "      <td>0.639051</td>\n",
       "      <td>0.148160</td>\n",
       "      <td>1.0</td>\n",
       "    </tr>\n",
       "    <tr>\n",
       "      <th>3</th>\n",
       "      <td>0.266667</td>\n",
       "      <td>0.0</td>\n",
       "      <td>1.0</td>\n",
       "      <td>1.0</td>\n",
       "      <td>1.00</td>\n",
       "      <td>0.00</td>\n",
       "      <td>1.0</td>\n",
       "      <td>0.346706</td>\n",
       "      <td>0.282482</td>\n",
       "      <td>0.166680</td>\n",
       "      <td>1.0</td>\n",
       "    </tr>\n",
       "    <tr>\n",
       "      <th>4</th>\n",
       "      <td>0.266667</td>\n",
       "      <td>1.0</td>\n",
       "      <td>1.0</td>\n",
       "      <td>1.0</td>\n",
       "      <td>0.50</td>\n",
       "      <td>0.50</td>\n",
       "      <td>0.6</td>\n",
       "      <td>0.505912</td>\n",
       "      <td>0.252190</td>\n",
       "      <td>0.083341</td>\n",
       "      <td>1.0</td>\n",
       "    </tr>\n",
       "    <tr>\n",
       "      <th>...</th>\n",
       "      <td>...</td>\n",
       "      <td>...</td>\n",
       "      <td>...</td>\n",
       "      <td>...</td>\n",
       "      <td>...</td>\n",
       "      <td>...</td>\n",
       "      <td>...</td>\n",
       "      <td>...</td>\n",
       "      <td>...</td>\n",
       "      <td>...</td>\n",
       "      <td>...</td>\n",
       "    </tr>\n",
       "    <tr>\n",
       "      <th>280</th>\n",
       "      <td>0.200000</td>\n",
       "      <td>1.0</td>\n",
       "      <td>1.0</td>\n",
       "      <td>1.0</td>\n",
       "      <td>1.00</td>\n",
       "      <td>0.00</td>\n",
       "      <td>0.2</td>\n",
       "      <td>0.574324</td>\n",
       "      <td>0.420803</td>\n",
       "      <td>0.416690</td>\n",
       "      <td>0.0</td>\n",
       "    </tr>\n",
       "    <tr>\n",
       "      <th>281</th>\n",
       "      <td>0.866667</td>\n",
       "      <td>1.0</td>\n",
       "      <td>0.0</td>\n",
       "      <td>0.0</td>\n",
       "      <td>0.75</td>\n",
       "      <td>0.25</td>\n",
       "      <td>0.4</td>\n",
       "      <td>0.276182</td>\n",
       "      <td>0.216058</td>\n",
       "      <td>0.777794</td>\n",
       "      <td>1.0</td>\n",
       "    </tr>\n",
       "    <tr>\n",
       "      <th>282</th>\n",
       "      <td>0.800000</td>\n",
       "      <td>1.0</td>\n",
       "      <td>0.0</td>\n",
       "      <td>0.0</td>\n",
       "      <td>0.75</td>\n",
       "      <td>0.50</td>\n",
       "      <td>1.0</td>\n",
       "      <td>0.302787</td>\n",
       "      <td>0.571168</td>\n",
       "      <td>0.870381</td>\n",
       "      <td>1.0</td>\n",
       "    </tr>\n",
       "    <tr>\n",
       "      <th>283</th>\n",
       "      <td>0.200000</td>\n",
       "      <td>1.0</td>\n",
       "      <td>1.0</td>\n",
       "      <td>1.0</td>\n",
       "      <td>1.00</td>\n",
       "      <td>0.00</td>\n",
       "      <td>0.4</td>\n",
       "      <td>0.839949</td>\n",
       "      <td>0.397445</td>\n",
       "      <td>0.842605</td>\n",
       "      <td>1.0</td>\n",
       "    </tr>\n",
       "    <tr>\n",
       "      <th>284</th>\n",
       "      <td>0.333333</td>\n",
       "      <td>1.0</td>\n",
       "      <td>1.0</td>\n",
       "      <td>1.0</td>\n",
       "      <td>0.50</td>\n",
       "      <td>0.50</td>\n",
       "      <td>0.2</td>\n",
       "      <td>0.472128</td>\n",
       "      <td>0.339781</td>\n",
       "      <td>0.074081</td>\n",
       "      <td>1.0</td>\n",
       "    </tr>\n",
       "  </tbody>\n",
       "</table>\n",
       "<p>285 rows × 11 columns</p>\n",
       "</div>"
      ],
      "text/plain": [
       "          Age  Gender  Marital Status  Occupation  Monthly Income  \\\n",
       "0    0.133333     0.0             1.0         1.0            1.00   \n",
       "1    0.400000     0.0             1.0         1.0            0.50   \n",
       "2    0.266667     1.0             1.0         1.0            0.50   \n",
       "3    0.266667     0.0             1.0         1.0            1.00   \n",
       "4    0.266667     1.0             1.0         1.0            0.50   \n",
       "..        ...     ...             ...         ...             ...   \n",
       "280  0.200000     1.0             1.0         1.0            1.00   \n",
       "281  0.866667     1.0             0.0         0.0            0.75   \n",
       "282  0.800000     1.0             0.0         0.0            0.75   \n",
       "283  0.200000     1.0             1.0         1.0            1.00   \n",
       "284  0.333333     1.0             1.0         1.0            0.50   \n",
       "\n",
       "     Educational Qualifications  Family size  latitude  longitude  Pin code  \\\n",
       "0                          0.50          0.6  0.470439   0.420073  0.000000   \n",
       "1                          0.00          0.4  0.472128   0.339781  0.074081   \n",
       "2                          0.50          0.4  0.379645   0.639051  0.148160   \n",
       "3                          0.00          1.0  0.346706   0.282482  0.166680   \n",
       "4                          0.50          0.6  0.505912   0.252190  0.083341   \n",
       "..                          ...          ...       ...        ...       ...   \n",
       "280                        0.00          0.2  0.574324   0.420803  0.416690   \n",
       "281                        0.25          0.4  0.276182   0.216058  0.777794   \n",
       "282                        0.50          1.0  0.302787   0.571168  0.870381   \n",
       "283                        0.00          0.4  0.839949   0.397445  0.842605   \n",
       "284                        0.50          0.2  0.472128   0.339781  0.074081   \n",
       "\n",
       "     Output  \n",
       "0       1.0  \n",
       "1       1.0  \n",
       "2       1.0  \n",
       "3       1.0  \n",
       "4       1.0  \n",
       "..      ...  \n",
       "280     0.0  \n",
       "281     1.0  \n",
       "282     1.0  \n",
       "283     1.0  \n",
       "284     1.0  \n",
       "\n",
       "[285 rows x 11 columns]"
      ]
     },
     "execution_count": 142,
     "metadata": {},
     "output_type": "execute_result"
    }
   ],
   "source": [
    "#scale data to have the same scale with min max scaler\n",
    "minmax = MinMaxScaler()\n",
    "df1 = pd.DataFrame(minmax.fit_transform(df1), columns=df1.columns)\n",
    "df1"
   ]
  },
  {
   "cell_type": "code",
   "execution_count": 144,
   "id": "4575533a",
   "metadata": {},
   "outputs": [
    {
     "data": {
      "text/plain": [
       "array([1, 0])"
      ]
     },
     "execution_count": 144,
     "metadata": {},
     "output_type": "execute_result"
    }
   ],
   "source": [
    "df['Feedback'].unique()"
   ]
  },
  {
   "cell_type": "code",
   "execution_count": 145,
   "id": "30556874",
   "metadata": {},
   "outputs": [],
   "source": [
    "# split data before ML modeling\n",
    "from sklearn.model_selection import train_test_split\n",
    "random_number = 1\n",
    "\n",
    "X = df1\n",
    "y = df['Feedback']\n",
    "\n",
    "X_train, X_test, y_train, y_test = train_test_split(X, y, test_size=0.3, random_state=random_number)"
   ]
  },
  {
   "cell_type": "code",
   "execution_count": 146,
   "id": "c52cd58e",
   "metadata": {},
   "outputs": [
    {
     "data": {
      "text/html": [
       "<div>\n",
       "<style scoped>\n",
       "    .dataframe tbody tr th:only-of-type {\n",
       "        vertical-align: middle;\n",
       "    }\n",
       "\n",
       "    .dataframe tbody tr th {\n",
       "        vertical-align: top;\n",
       "    }\n",
       "\n",
       "    .dataframe thead th {\n",
       "        text-align: right;\n",
       "    }\n",
       "</style>\n",
       "<table border=\"1\" class=\"dataframe\">\n",
       "  <thead>\n",
       "    <tr style=\"text-align: right;\">\n",
       "      <th></th>\n",
       "      <th>Age</th>\n",
       "      <th>Gender</th>\n",
       "      <th>Marital Status</th>\n",
       "      <th>Occupation</th>\n",
       "      <th>Monthly Income</th>\n",
       "      <th>Educational Qualifications</th>\n",
       "      <th>Family size</th>\n",
       "      <th>latitude</th>\n",
       "      <th>longitude</th>\n",
       "      <th>Pin code</th>\n",
       "      <th>Output</th>\n",
       "    </tr>\n",
       "  </thead>\n",
       "  <tbody>\n",
       "    <tr>\n",
       "      <th>8</th>\n",
       "      <td>0.333333</td>\n",
       "      <td>0.0</td>\n",
       "      <td>1.0</td>\n",
       "      <td>1.000000</td>\n",
       "      <td>1.0</td>\n",
       "      <td>0.5</td>\n",
       "      <td>0.2</td>\n",
       "      <td>0.470439</td>\n",
       "      <td>0.420073</td>\n",
       "      <td>0.000000</td>\n",
       "      <td>1.0</td>\n",
       "    </tr>\n",
       "    <tr>\n",
       "      <th>280</th>\n",
       "      <td>0.200000</td>\n",
       "      <td>1.0</td>\n",
       "      <td>1.0</td>\n",
       "      <td>1.000000</td>\n",
       "      <td>1.0</td>\n",
       "      <td>0.0</td>\n",
       "      <td>0.2</td>\n",
       "      <td>0.574324</td>\n",
       "      <td>0.420803</td>\n",
       "      <td>0.416690</td>\n",
       "      <td>0.0</td>\n",
       "    </tr>\n",
       "    <tr>\n",
       "      <th>204</th>\n",
       "      <td>0.400000</td>\n",
       "      <td>1.0</td>\n",
       "      <td>1.0</td>\n",
       "      <td>1.000000</td>\n",
       "      <td>1.0</td>\n",
       "      <td>0.5</td>\n",
       "      <td>0.2</td>\n",
       "      <td>0.445101</td>\n",
       "      <td>0.615693</td>\n",
       "      <td>0.685206</td>\n",
       "      <td>1.0</td>\n",
       "    </tr>\n",
       "    <tr>\n",
       "      <th>31</th>\n",
       "      <td>0.266667</td>\n",
       "      <td>1.0</td>\n",
       "      <td>1.0</td>\n",
       "      <td>1.000000</td>\n",
       "      <td>1.0</td>\n",
       "      <td>0.5</td>\n",
       "      <td>0.6</td>\n",
       "      <td>0.477618</td>\n",
       "      <td>0.571533</td>\n",
       "      <td>0.342614</td>\n",
       "      <td>1.0</td>\n",
       "    </tr>\n",
       "    <tr>\n",
       "      <th>161</th>\n",
       "      <td>0.266667</td>\n",
       "      <td>1.0</td>\n",
       "      <td>1.0</td>\n",
       "      <td>1.000000</td>\n",
       "      <td>1.0</td>\n",
       "      <td>0.0</td>\n",
       "      <td>0.2</td>\n",
       "      <td>0.522382</td>\n",
       "      <td>0.328102</td>\n",
       "      <td>0.175940</td>\n",
       "      <td>0.0</td>\n",
       "    </tr>\n",
       "    <tr>\n",
       "      <th>...</th>\n",
       "      <td>...</td>\n",
       "      <td>...</td>\n",
       "      <td>...</td>\n",
       "      <td>...</td>\n",
       "      <td>...</td>\n",
       "      <td>...</td>\n",
       "      <td>...</td>\n",
       "      <td>...</td>\n",
       "      <td>...</td>\n",
       "      <td>...</td>\n",
       "      <td>...</td>\n",
       "    </tr>\n",
       "    <tr>\n",
       "      <th>203</th>\n",
       "      <td>0.200000</td>\n",
       "      <td>0.0</td>\n",
       "      <td>1.0</td>\n",
       "      <td>1.000000</td>\n",
       "      <td>1.0</td>\n",
       "      <td>0.5</td>\n",
       "      <td>0.4</td>\n",
       "      <td>0.209882</td>\n",
       "      <td>0.289416</td>\n",
       "      <td>0.638911</td>\n",
       "      <td>1.0</td>\n",
       "    </tr>\n",
       "    <tr>\n",
       "      <th>255</th>\n",
       "      <td>0.333333</td>\n",
       "      <td>0.0</td>\n",
       "      <td>0.5</td>\n",
       "      <td>0.000000</td>\n",
       "      <td>0.0</td>\n",
       "      <td>0.0</td>\n",
       "      <td>0.6</td>\n",
       "      <td>0.167230</td>\n",
       "      <td>0.722263</td>\n",
       "      <td>0.324095</td>\n",
       "      <td>1.0</td>\n",
       "    </tr>\n",
       "    <tr>\n",
       "      <th>72</th>\n",
       "      <td>0.400000</td>\n",
       "      <td>1.0</td>\n",
       "      <td>1.0</td>\n",
       "      <td>1.000000</td>\n",
       "      <td>1.0</td>\n",
       "      <td>0.5</td>\n",
       "      <td>0.8</td>\n",
       "      <td>0.289274</td>\n",
       "      <td>0.386131</td>\n",
       "      <td>0.092601</td>\n",
       "      <td>1.0</td>\n",
       "    </tr>\n",
       "    <tr>\n",
       "      <th>235</th>\n",
       "      <td>0.333333</td>\n",
       "      <td>1.0</td>\n",
       "      <td>1.0</td>\n",
       "      <td>1.000000</td>\n",
       "      <td>1.0</td>\n",
       "      <td>0.5</td>\n",
       "      <td>0.4</td>\n",
       "      <td>0.555321</td>\n",
       "      <td>1.000000</td>\n",
       "      <td>0.611134</td>\n",
       "      <td>1.0</td>\n",
       "    </tr>\n",
       "    <tr>\n",
       "      <th>37</th>\n",
       "      <td>0.933333</td>\n",
       "      <td>0.0</td>\n",
       "      <td>0.5</td>\n",
       "      <td>0.333333</td>\n",
       "      <td>1.0</td>\n",
       "      <td>0.0</td>\n",
       "      <td>0.8</td>\n",
       "      <td>0.493243</td>\n",
       "      <td>0.516058</td>\n",
       "      <td>0.064821</td>\n",
       "      <td>1.0</td>\n",
       "    </tr>\n",
       "  </tbody>\n",
       "</table>\n",
       "<p>199 rows × 11 columns</p>\n",
       "</div>"
      ],
      "text/plain": [
       "          Age  Gender  Marital Status  Occupation  Monthly Income  \\\n",
       "8    0.333333     0.0             1.0    1.000000             1.0   \n",
       "280  0.200000     1.0             1.0    1.000000             1.0   \n",
       "204  0.400000     1.0             1.0    1.000000             1.0   \n",
       "31   0.266667     1.0             1.0    1.000000             1.0   \n",
       "161  0.266667     1.0             1.0    1.000000             1.0   \n",
       "..        ...     ...             ...         ...             ...   \n",
       "203  0.200000     0.0             1.0    1.000000             1.0   \n",
       "255  0.333333     0.0             0.5    0.000000             0.0   \n",
       "72   0.400000     1.0             1.0    1.000000             1.0   \n",
       "235  0.333333     1.0             1.0    1.000000             1.0   \n",
       "37   0.933333     0.0             0.5    0.333333             1.0   \n",
       "\n",
       "     Educational Qualifications  Family size  latitude  longitude  Pin code  \\\n",
       "8                           0.5          0.2  0.470439   0.420073  0.000000   \n",
       "280                         0.0          0.2  0.574324   0.420803  0.416690   \n",
       "204                         0.5          0.2  0.445101   0.615693  0.685206   \n",
       "31                          0.5          0.6  0.477618   0.571533  0.342614   \n",
       "161                         0.0          0.2  0.522382   0.328102  0.175940   \n",
       "..                          ...          ...       ...        ...       ...   \n",
       "203                         0.5          0.4  0.209882   0.289416  0.638911   \n",
       "255                         0.0          0.6  0.167230   0.722263  0.324095   \n",
       "72                          0.5          0.8  0.289274   0.386131  0.092601   \n",
       "235                         0.5          0.4  0.555321   1.000000  0.611134   \n",
       "37                          0.0          0.8  0.493243   0.516058  0.064821   \n",
       "\n",
       "     Output  \n",
       "8       1.0  \n",
       "280     0.0  \n",
       "204     1.0  \n",
       "31      1.0  \n",
       "161     0.0  \n",
       "..      ...  \n",
       "203     1.0  \n",
       "255     1.0  \n",
       "72      1.0  \n",
       "235     1.0  \n",
       "37      1.0  \n",
       "\n",
       "[199 rows x 11 columns]"
      ]
     },
     "execution_count": 146,
     "metadata": {},
     "output_type": "execute_result"
    }
   ],
   "source": [
    "X_train"
   ]
  },
  {
   "cell_type": "code",
   "execution_count": 147,
   "id": "42df0d32",
   "metadata": {},
   "outputs": [
    {
     "data": {
      "text/plain": [
       "Index(['Age', 'Gender', 'Marital Status', 'Occupation', 'Monthly Income',\n",
       "       'Educational Qualifications', 'Family size', 'latitude', 'longitude',\n",
       "       'Pin code', 'Output'],\n",
       "      dtype='object')"
      ]
     },
     "execution_count": 147,
     "metadata": {},
     "output_type": "execute_result"
    }
   ],
   "source": [
    "X_train.columns"
   ]
  },
  {
   "cell_type": "code",
   "execution_count": 148,
   "id": "17ba9868",
   "metadata": {},
   "outputs": [
    {
     "data": {
      "text/html": [
       "<div>\n",
       "<style scoped>\n",
       "    .dataframe tbody tr th:only-of-type {\n",
       "        vertical-align: middle;\n",
       "    }\n",
       "\n",
       "    .dataframe tbody tr th {\n",
       "        vertical-align: top;\n",
       "    }\n",
       "\n",
       "    .dataframe thead th {\n",
       "        text-align: right;\n",
       "    }\n",
       "</style>\n",
       "<table border=\"1\" class=\"dataframe\">\n",
       "  <thead>\n",
       "    <tr style=\"text-align: right;\">\n",
       "      <th></th>\n",
       "      <th>Age</th>\n",
       "      <th>Gender</th>\n",
       "      <th>Marital Status</th>\n",
       "      <th>Occupation</th>\n",
       "      <th>Monthly Income</th>\n",
       "      <th>Educational Qualifications</th>\n",
       "      <th>Family size</th>\n",
       "      <th>latitude</th>\n",
       "      <th>longitude</th>\n",
       "      <th>Pin code</th>\n",
       "      <th>Output</th>\n",
       "    </tr>\n",
       "  </thead>\n",
       "  <tbody>\n",
       "    <tr>\n",
       "      <th>95</th>\n",
       "      <td>0.000000</td>\n",
       "      <td>1.0</td>\n",
       "      <td>1.0</td>\n",
       "      <td>1.000000</td>\n",
       "      <td>1.00</td>\n",
       "      <td>0.00</td>\n",
       "      <td>0.8</td>\n",
       "      <td>0.415118</td>\n",
       "      <td>0.357299</td>\n",
       "      <td>0.009260</td>\n",
       "      <td>1.0</td>\n",
       "    </tr>\n",
       "    <tr>\n",
       "      <th>110</th>\n",
       "      <td>0.466667</td>\n",
       "      <td>1.0</td>\n",
       "      <td>1.0</td>\n",
       "      <td>1.000000</td>\n",
       "      <td>1.00</td>\n",
       "      <td>0.50</td>\n",
       "      <td>0.6</td>\n",
       "      <td>0.472128</td>\n",
       "      <td>0.339781</td>\n",
       "      <td>0.074081</td>\n",
       "      <td>1.0</td>\n",
       "    </tr>\n",
       "    <tr>\n",
       "      <th>169</th>\n",
       "      <td>0.866667</td>\n",
       "      <td>0.0</td>\n",
       "      <td>0.0</td>\n",
       "      <td>0.000000</td>\n",
       "      <td>0.75</td>\n",
       "      <td>0.25</td>\n",
       "      <td>0.8</td>\n",
       "      <td>0.426520</td>\n",
       "      <td>0.447445</td>\n",
       "      <td>0.222239</td>\n",
       "      <td>1.0</td>\n",
       "    </tr>\n",
       "    <tr>\n",
       "      <th>205</th>\n",
       "      <td>0.533333</td>\n",
       "      <td>0.0</td>\n",
       "      <td>0.0</td>\n",
       "      <td>0.666667</td>\n",
       "      <td>0.00</td>\n",
       "      <td>0.00</td>\n",
       "      <td>0.8</td>\n",
       "      <td>0.445101</td>\n",
       "      <td>0.615693</td>\n",
       "      <td>0.685206</td>\n",
       "      <td>0.0</td>\n",
       "    </tr>\n",
       "    <tr>\n",
       "      <th>262</th>\n",
       "      <td>0.466667</td>\n",
       "      <td>0.0</td>\n",
       "      <td>1.0</td>\n",
       "      <td>1.000000</td>\n",
       "      <td>0.00</td>\n",
       "      <td>0.00</td>\n",
       "      <td>0.2</td>\n",
       "      <td>0.466639</td>\n",
       "      <td>0.271533</td>\n",
       "      <td>0.203719</td>\n",
       "      <td>1.0</td>\n",
       "    </tr>\n",
       "    <tr>\n",
       "      <th>...</th>\n",
       "      <td>...</td>\n",
       "      <td>...</td>\n",
       "      <td>...</td>\n",
       "      <td>...</td>\n",
       "      <td>...</td>\n",
       "      <td>...</td>\n",
       "      <td>...</td>\n",
       "      <td>...</td>\n",
       "      <td>...</td>\n",
       "      <td>...</td>\n",
       "      <td>...</td>\n",
       "    </tr>\n",
       "    <tr>\n",
       "      <th>79</th>\n",
       "      <td>0.466667</td>\n",
       "      <td>1.0</td>\n",
       "      <td>1.0</td>\n",
       "      <td>1.000000</td>\n",
       "      <td>1.00</td>\n",
       "      <td>0.00</td>\n",
       "      <td>0.0</td>\n",
       "      <td>0.472128</td>\n",
       "      <td>0.339781</td>\n",
       "      <td>0.074081</td>\n",
       "      <td>1.0</td>\n",
       "    </tr>\n",
       "    <tr>\n",
       "      <th>270</th>\n",
       "      <td>0.466667</td>\n",
       "      <td>0.0</td>\n",
       "      <td>0.5</td>\n",
       "      <td>0.000000</td>\n",
       "      <td>0.25</td>\n",
       "      <td>0.50</td>\n",
       "      <td>0.4</td>\n",
       "      <td>0.560811</td>\n",
       "      <td>0.505474</td>\n",
       "      <td>0.037040</td>\n",
       "      <td>0.0</td>\n",
       "    </tr>\n",
       "    <tr>\n",
       "      <th>119</th>\n",
       "      <td>0.533333</td>\n",
       "      <td>0.0</td>\n",
       "      <td>1.0</td>\n",
       "      <td>0.000000</td>\n",
       "      <td>0.75</td>\n",
       "      <td>0.00</td>\n",
       "      <td>0.4</td>\n",
       "      <td>0.560811</td>\n",
       "      <td>0.505474</td>\n",
       "      <td>0.037040</td>\n",
       "      <td>1.0</td>\n",
       "    </tr>\n",
       "    <tr>\n",
       "      <th>266</th>\n",
       "      <td>0.600000</td>\n",
       "      <td>0.0</td>\n",
       "      <td>0.0</td>\n",
       "      <td>0.666667</td>\n",
       "      <td>0.75</td>\n",
       "      <td>0.00</td>\n",
       "      <td>1.0</td>\n",
       "      <td>0.879223</td>\n",
       "      <td>0.227007</td>\n",
       "      <td>0.120381</td>\n",
       "      <td>0.0</td>\n",
       "    </tr>\n",
       "    <tr>\n",
       "      <th>219</th>\n",
       "      <td>0.666667</td>\n",
       "      <td>1.0</td>\n",
       "      <td>0.0</td>\n",
       "      <td>0.000000</td>\n",
       "      <td>0.25</td>\n",
       "      <td>0.00</td>\n",
       "      <td>0.4</td>\n",
       "      <td>0.302787</td>\n",
       "      <td>0.571168</td>\n",
       "      <td>0.870381</td>\n",
       "      <td>1.0</td>\n",
       "    </tr>\n",
       "  </tbody>\n",
       "</table>\n",
       "<p>86 rows × 11 columns</p>\n",
       "</div>"
      ],
      "text/plain": [
       "          Age  Gender  Marital Status  Occupation  Monthly Income  \\\n",
       "95   0.000000     1.0             1.0    1.000000            1.00   \n",
       "110  0.466667     1.0             1.0    1.000000            1.00   \n",
       "169  0.866667     0.0             0.0    0.000000            0.75   \n",
       "205  0.533333     0.0             0.0    0.666667            0.00   \n",
       "262  0.466667     0.0             1.0    1.000000            0.00   \n",
       "..        ...     ...             ...         ...             ...   \n",
       "79   0.466667     1.0             1.0    1.000000            1.00   \n",
       "270  0.466667     0.0             0.5    0.000000            0.25   \n",
       "119  0.533333     0.0             1.0    0.000000            0.75   \n",
       "266  0.600000     0.0             0.0    0.666667            0.75   \n",
       "219  0.666667     1.0             0.0    0.000000            0.25   \n",
       "\n",
       "     Educational Qualifications  Family size  latitude  longitude  Pin code  \\\n",
       "95                         0.00          0.8  0.415118   0.357299  0.009260   \n",
       "110                        0.50          0.6  0.472128   0.339781  0.074081   \n",
       "169                        0.25          0.8  0.426520   0.447445  0.222239   \n",
       "205                        0.00          0.8  0.445101   0.615693  0.685206   \n",
       "262                        0.00          0.2  0.466639   0.271533  0.203719   \n",
       "..                          ...          ...       ...        ...       ...   \n",
       "79                         0.00          0.0  0.472128   0.339781  0.074081   \n",
       "270                        0.50          0.4  0.560811   0.505474  0.037040   \n",
       "119                        0.00          0.4  0.560811   0.505474  0.037040   \n",
       "266                        0.00          1.0  0.879223   0.227007  0.120381   \n",
       "219                        0.00          0.4  0.302787   0.571168  0.870381   \n",
       "\n",
       "     Output  \n",
       "95      1.0  \n",
       "110     1.0  \n",
       "169     1.0  \n",
       "205     0.0  \n",
       "262     1.0  \n",
       "..      ...  \n",
       "79      1.0  \n",
       "270     0.0  \n",
       "119     1.0  \n",
       "266     0.0  \n",
       "219     1.0  \n",
       "\n",
       "[86 rows x 11 columns]"
      ]
     },
     "execution_count": 148,
     "metadata": {},
     "output_type": "execute_result"
    }
   ],
   "source": [
    "X_test"
   ]
  },
  {
   "cell_type": "code",
   "execution_count": 149,
   "id": "36e1170c",
   "metadata": {},
   "outputs": [
    {
     "data": {
      "text/plain": [
       "1    167\n",
       "0     32\n",
       "Name: Feedback, dtype: int64"
      ]
     },
     "execution_count": 149,
     "metadata": {},
     "output_type": "execute_result"
    }
   ],
   "source": [
    "y_train.value_counts()"
   ]
  },
  {
   "cell_type": "code",
   "execution_count": 150,
   "id": "cb6ff19e",
   "metadata": {},
   "outputs": [],
   "source": [
    "#Data imbalance?"
   ]
  },
  {
   "cell_type": "code",
   "execution_count": 151,
   "id": "e9fc9163",
   "metadata": {},
   "outputs": [
    {
     "data": {
      "text/plain": [
       "1    64\n",
       "0    22\n",
       "Name: Feedback, dtype: int64"
      ]
     },
     "execution_count": 151,
     "metadata": {},
     "output_type": "execute_result"
    }
   ],
   "source": [
    "y_test.value_counts()"
   ]
  },
  {
   "cell_type": "markdown",
   "id": "c2097baf",
   "metadata": {},
   "source": [
    "## Build ML models. \n"
   ]
  },
  {
   "cell_type": "code",
   "execution_count": 152,
   "id": "7287b2ef",
   "metadata": {},
   "outputs": [
    {
     "data": {
      "application/javascript": [
       "\n",
       "        if (window._pyforest_update_imports_cell) { window._pyforest_update_imports_cell('from sklearn import metrics\\nfrom sklearn.preprocessing import MinMaxScaler\\nfrom sklearn.model_selection import GridSearchCV\\nimport os'); }\n",
       "    "
      ],
      "text/plain": [
       "<IPython.core.display.Javascript object>"
      ]
     },
     "metadata": {},
     "output_type": "display_data"
    }
   ],
   "source": [
    "#Logistic Regression\n",
    "from sklearn.linear_model import LogisticRegression\n",
    "\n",
    "lr = LogisticRegression(random_state=random_number)\n",
    "param_grid_log = {\n",
    "    'C': [100, 10, 1.0, 0.1, 0.01],\n",
    "    'penalty': ['l1','l2'],\n",
    "    'solver':['liblinear']\n",
    "}\n",
    "\n",
    "#Find best parameter model\n",
    "grid_log = GridSearchCV(\n",
    "        estimator=lr,\n",
    "        param_grid=param_grid_log, \n",
    "        cv=5,\n",
    "        n_jobs=-1,\n",
    "        scoring='accuracy',\n",
    "        verbose=0\n",
    "    )\n",
    "#fit best model to training\n",
    "model_log = grid_log.fit(X_train, y_train)"
   ]
  },
  {
   "cell_type": "code",
   "execution_count": 153,
   "id": "f18908eb",
   "metadata": {},
   "outputs": [
    {
     "data": {
      "text/plain": [
       "GridSearchCV(cv=5, estimator=LogisticRegression(random_state=1), n_jobs=-1,\n",
       "             param_grid={'C': [100, 10, 1.0, 0.1, 0.01],\n",
       "                         'penalty': ['l1', 'l2'], 'solver': ['liblinear']},\n",
       "             scoring='accuracy')"
      ]
     },
     "execution_count": 153,
     "metadata": {},
     "output_type": "execute_result"
    }
   ],
   "source": [
    "model_log"
   ]
  },
  {
   "cell_type": "code",
   "execution_count": 154,
   "id": "c393c46f",
   "metadata": {},
   "outputs": [
    {
     "data": {
      "application/javascript": [
       "\n",
       "        if (window._pyforest_update_imports_cell) { window._pyforest_update_imports_cell('from sklearn import metrics\\nfrom sklearn.preprocessing import MinMaxScaler\\nfrom sklearn.model_selection import GridSearchCV\\nimport os'); }\n",
       "    "
      ],
      "text/plain": [
       "<IPython.core.display.Javascript object>"
      ]
     },
     "metadata": {},
     "output_type": "display_data"
    }
   ],
   "source": [
    "#Decision Tree\n",
    "\n",
    "from sklearn.tree import DecisionTreeClassifier\n",
    "\n",
    "dt = DecisionTreeClassifier(\n",
    "    random_state=random_number\n",
    ")\n",
    "\n",
    "param_grid_tree = {\n",
    "    \"max_depth\": [3, 5, 7, 9, 11, 13],\n",
    "    'criterion' : [\"gini\", \"entropy\"],\n",
    "}\n",
    "\n",
    "grid_tree = GridSearchCV(\n",
    "        estimator=dt,\n",
    "        param_grid=param_grid_tree, \n",
    "        cv=5,\n",
    "        n_jobs=-1,\n",
    "        scoring='accuracy',\n",
    "        verbose=0\n",
    "    )\n",
    "model_tree = grid_tree.fit(X_train, y_train)"
   ]
  },
  {
   "cell_type": "code",
   "execution_count": 155,
   "id": "50832062",
   "metadata": {},
   "outputs": [
    {
     "data": {
      "application/javascript": [
       "\n",
       "        if (window._pyforest_update_imports_cell) { window._pyforest_update_imports_cell('from sklearn import metrics\\nfrom sklearn.preprocessing import MinMaxScaler\\nfrom sklearn.model_selection import GridSearchCV\\nimport os'); }\n",
       "    "
      ],
      "text/plain": [
       "<IPython.core.display.Javascript object>"
      ]
     },
     "metadata": {},
     "output_type": "display_data"
    }
   ],
   "source": [
    "# RandomForest\n",
    "from sklearn.ensemble import RandomForestClassifier\n",
    "\n",
    "rf = RandomForestClassifier(random_state=random_number)\n",
    "param_grid_forest = {\n",
    "    'n_estimators': [200,400, 700],\n",
    "    'max_depth': [10,20,30],\n",
    "    'criterion' : [\"gini\", \"entropy\"],\n",
    "    'max_leaf_nodes': [50, 100]\n",
    "}\n",
    "\n",
    "grid_forest = GridSearchCV(\n",
    "        estimator=rf,\n",
    "        param_grid=param_grid_forest, \n",
    "        cv=5, \n",
    "        n_jobs=-1, \n",
    "        scoring='accuracy',\n",
    "        verbose=0\n",
    "    )\n",
    "model_forest = grid_forest.fit(X_train, y_train)\n"
   ]
  },
  {
   "cell_type": "code",
   "execution_count": 156,
   "id": "36085050",
   "metadata": {},
   "outputs": [
    {
     "name": "stdout",
     "output_type": "stream",
     "text": [
      "Requirement already satisfied: xgboost in /Users/siriluk/opt/anaconda3/lib/python3.9/site-packages (2.0.3)\n",
      "Requirement already satisfied: numpy in /Users/siriluk/opt/anaconda3/lib/python3.9/site-packages (from xgboost) (1.26.4)\n",
      "Requirement already satisfied: scipy in /Users/siriluk/opt/anaconda3/lib/python3.9/site-packages (from xgboost) (1.12.0)\n",
      "Note: you may need to restart the kernel to use updated packages.\n"
     ]
    }
   ],
   "source": [
    "pip install xgboost"
   ]
  },
  {
   "cell_type": "code",
   "execution_count": 157,
   "id": "ec57f2d6",
   "metadata": {},
   "outputs": [
    {
     "name": "stdout",
     "output_type": "stream",
     "text": [
      "2.0.3\n"
     ]
    }
   ],
   "source": [
    "print(xgb.__version__)"
   ]
  },
  {
   "cell_type": "code",
   "execution_count": 158,
   "id": "2fb5e356",
   "metadata": {},
   "outputs": [
    {
     "data": {
      "application/javascript": [
       "\n",
       "        if (window._pyforest_update_imports_cell) { window._pyforest_update_imports_cell('from sklearn import metrics\\nfrom sklearn.preprocessing import MinMaxScaler\\nfrom sklearn.model_selection import GridSearchCV\\nimport os'); }\n",
       "    "
      ],
      "text/plain": [
       "<IPython.core.display.Javascript object>"
      ]
     },
     "metadata": {},
     "output_type": "display_data"
    }
   ],
   "source": [
    "#Xgboost \n",
    "import xgboost as xgb\n",
    "xgb_model = xgb.XGBClassifier(random_state=random_number)\n",
    "\n",
    "# Parameters for XGBoost model\n",
    "params = {\n",
    "    'max_depth': [3, 5, 7, 9, 11, 13],\n",
    "    'learning_rate': [0.1, 0.01, 0.001],\n",
    "    'n_estimators': [100, 200, 300],\n",
    "    'objective': ['binary:logistic'],  # For binary classification\n",
    "    'eval_metric': ['error']            # Evaluation metric\n",
    "}\n",
    "\n",
    "# Grid search cross-validation\n",
    "grid_xgb = GridSearchCV(estimator=xgb_model,\n",
    "                        param_grid=params,\n",
    "                        cv=5,\n",
    "                        n_jobs=-1,\n",
    "                        scoring='accuracy',\n",
    "                        verbose=0)\n",
    "\n",
    "# Fit the model\n",
    "model_xgb = grid_xgb.fit(X_train, y_train)"
   ]
  },
  {
   "cell_type": "markdown",
   "id": "90809e0d",
   "metadata": {},
   "source": [
    "### Prediction"
   ]
  },
  {
   "cell_type": "code",
   "execution_count": 159,
   "id": "2468833f",
   "metadata": {},
   "outputs": [],
   "source": [
    "#prediction of each model on X_test\n",
    "ylog_predict = model_log.predict(X_test)\n",
    "ytree_predict = model_tree.predict(X_test)\n",
    "yforest_predict = model_forest.predict(X_test)\n",
    "yxgb_predict = model_xgb.predict(X_test)"
   ]
  },
  {
   "cell_type": "markdown",
   "id": "b788aecc",
   "metadata": {},
   "source": [
    "### Metric"
   ]
  },
  {
   "cell_type": "code",
   "execution_count": 160,
   "id": "da8cf9b2",
   "metadata": {},
   "outputs": [],
   "source": [
    "from sklearn.metrics import accuracy_score, precision_score, recall_score, f1_score, roc_auc_score, confusion_matrix, log_loss"
   ]
  },
  {
   "cell_type": "code",
   "execution_count": 161,
   "id": "fef41430",
   "metadata": {},
   "outputs": [],
   "source": [
    "# Model evelaution metrics\n",
    "def eval_metrics(actual, pred):\n",
    "    accuracy = metrics.accuracy_score(actual, pred)\n",
    "    f1 = metrics.f1_score(actual, pred, pos_label=1)\n",
    "    fpr, tpr, _ = metrics.roc_curve(actual, pred)\n",
    "    auc = metrics.auc(fpr, tpr)\n",
    "    plt.figure(figsize=(8,8))\n",
    "    plt.plot(fpr, tpr, color='blue', label='ROC curve area = %0.2f'%auc)\n",
    "    plt.plot([0,1],[0,1], 'r--')\n",
    "    plt.xlim([-0.1, 1.1])\n",
    "    plt.ylim([-0.1, 1.1])\n",
    "    plt.xlabel('False Positive Rate', size=14)\n",
    "    plt.ylabel('True Positive Rate', size=14)\n",
    "    plt.legend(loc='lower right')\n",
    "    #Save plot\n",
    "    os.makedirs(\"plots\", exist_ok=True)\n",
    "    plt.savefig(\"plots/ROC_curve.png\")\n",
    "    #Close plot\n",
    "    plt.close()\n",
    "    return(f\"accuracy = {accuracy}, f1 = {f1}, auc= {auc}\")"
   ]
  },
  {
   "cell_type": "code",
   "execution_count": 162,
   "id": "6727a7e1",
   "metadata": {},
   "outputs": [
    {
     "data": {
      "application/javascript": [
       "\n",
       "        if (window._pyforest_update_imports_cell) { window._pyforest_update_imports_cell('from sklearn import metrics\\nfrom sklearn.preprocessing import MinMaxScaler\\nfrom sklearn.model_selection import GridSearchCV\\nimport os'); }\n",
       "    "
      ],
      "text/plain": [
       "<IPython.core.display.Javascript object>"
      ]
     },
     "metadata": {},
     "output_type": "display_data"
    },
    {
     "data": {
      "application/javascript": [
       "\n",
       "        if (window._pyforest_update_imports_cell) { window._pyforest_update_imports_cell('from sklearn import metrics\\nfrom sklearn.preprocessing import MinMaxScaler\\nfrom sklearn.model_selection import GridSearchCV\\nimport os'); }\n",
       "    "
      ],
      "text/plain": [
       "<IPython.core.display.Javascript object>"
      ]
     },
     "metadata": {},
     "output_type": "display_data"
    },
    {
     "data": {
      "application/javascript": [
       "\n",
       "        if (window._pyforest_update_imports_cell) { window._pyforest_update_imports_cell('from sklearn import metrics\\nfrom sklearn.preprocessing import MinMaxScaler\\nfrom sklearn.model_selection import GridSearchCV\\nimport os'); }\n",
       "    "
      ],
      "text/plain": [
       "<IPython.core.display.Javascript object>"
      ]
     },
     "metadata": {},
     "output_type": "display_data"
    },
    {
     "data": {
      "application/javascript": [
       "\n",
       "        if (window._pyforest_update_imports_cell) { window._pyforest_update_imports_cell('from sklearn import metrics\\nfrom sklearn.preprocessing import MinMaxScaler\\nfrom sklearn.model_selection import GridSearchCV\\nimport os'); }\n",
       "    "
      ],
      "text/plain": [
       "<IPython.core.display.Javascript object>"
      ]
     },
     "metadata": {},
     "output_type": "display_data"
    },
    {
     "data": {
      "application/javascript": [
       "\n",
       "        if (window._pyforest_update_imports_cell) { window._pyforest_update_imports_cell('from sklearn import metrics\\nfrom sklearn.preprocessing import MinMaxScaler\\nfrom sklearn.model_selection import GridSearchCV\\nimport os'); }\n",
       "    "
      ],
      "text/plain": [
       "<IPython.core.display.Javascript object>"
      ]
     },
     "metadata": {},
     "output_type": "display_data"
    },
    {
     "name": "stdout",
     "output_type": "stream",
     "text": [
      "logistic evaluations:  accuracy = 0.813953488372093, f1 = 0.880597014925373, auc= 0.7109375\n"
     ]
    },
    {
     "data": {
      "application/javascript": [
       "\n",
       "        if (window._pyforest_update_imports_cell) { window._pyforest_update_imports_cell('from sklearn import metrics\\nfrom sklearn.preprocessing import MinMaxScaler\\nfrom sklearn.model_selection import GridSearchCV\\nimport os'); }\n",
       "    "
      ],
      "text/plain": [
       "<IPython.core.display.Javascript object>"
      ]
     },
     "metadata": {},
     "output_type": "display_data"
    },
    {
     "data": {
      "application/javascript": [
       "\n",
       "        if (window._pyforest_update_imports_cell) { window._pyforest_update_imports_cell('from sklearn import metrics\\nfrom sklearn.preprocessing import MinMaxScaler\\nfrom sklearn.model_selection import GridSearchCV\\nimport os'); }\n",
       "    "
      ],
      "text/plain": [
       "<IPython.core.display.Javascript object>"
      ]
     },
     "metadata": {},
     "output_type": "display_data"
    },
    {
     "data": {
      "application/javascript": [
       "\n",
       "        if (window._pyforest_update_imports_cell) { window._pyforest_update_imports_cell('from sklearn import metrics\\nfrom sklearn.preprocessing import MinMaxScaler\\nfrom sklearn.model_selection import GridSearchCV\\nimport os'); }\n",
       "    "
      ],
      "text/plain": [
       "<IPython.core.display.Javascript object>"
      ]
     },
     "metadata": {},
     "output_type": "display_data"
    },
    {
     "data": {
      "application/javascript": [
       "\n",
       "        if (window._pyforest_update_imports_cell) { window._pyforest_update_imports_cell('from sklearn import metrics\\nfrom sklearn.preprocessing import MinMaxScaler\\nfrom sklearn.model_selection import GridSearchCV\\nimport os'); }\n",
       "    "
      ],
      "text/plain": [
       "<IPython.core.display.Javascript object>"
      ]
     },
     "metadata": {},
     "output_type": "display_data"
    },
    {
     "data": {
      "application/javascript": [
       "\n",
       "        if (window._pyforest_update_imports_cell) { window._pyforest_update_imports_cell('from sklearn import metrics\\nfrom sklearn.preprocessing import MinMaxScaler\\nfrom sklearn.model_selection import GridSearchCV\\nimport os'); }\n",
       "    "
      ],
      "text/plain": [
       "<IPython.core.display.Javascript object>"
      ]
     },
     "metadata": {},
     "output_type": "display_data"
    },
    {
     "name": "stdout",
     "output_type": "stream",
     "text": [
      "decision_tree evaluations:  accuracy = 0.813953488372093, f1 = 0.880597014925373, auc= 0.7109375\n"
     ]
    },
    {
     "data": {
      "application/javascript": [
       "\n",
       "        if (window._pyforest_update_imports_cell) { window._pyforest_update_imports_cell('from sklearn import metrics\\nfrom sklearn.preprocessing import MinMaxScaler\\nfrom sklearn.model_selection import GridSearchCV\\nimport os'); }\n",
       "    "
      ],
      "text/plain": [
       "<IPython.core.display.Javascript object>"
      ]
     },
     "metadata": {},
     "output_type": "display_data"
    },
    {
     "data": {
      "application/javascript": [
       "\n",
       "        if (window._pyforest_update_imports_cell) { window._pyforest_update_imports_cell('from sklearn import metrics\\nfrom sklearn.preprocessing import MinMaxScaler\\nfrom sklearn.model_selection import GridSearchCV\\nimport os'); }\n",
       "    "
      ],
      "text/plain": [
       "<IPython.core.display.Javascript object>"
      ]
     },
     "metadata": {},
     "output_type": "display_data"
    },
    {
     "data": {
      "application/javascript": [
       "\n",
       "        if (window._pyforest_update_imports_cell) { window._pyforest_update_imports_cell('from sklearn import metrics\\nfrom sklearn.preprocessing import MinMaxScaler\\nfrom sklearn.model_selection import GridSearchCV\\nimport os'); }\n",
       "    "
      ],
      "text/plain": [
       "<IPython.core.display.Javascript object>"
      ]
     },
     "metadata": {},
     "output_type": "display_data"
    },
    {
     "data": {
      "application/javascript": [
       "\n",
       "        if (window._pyforest_update_imports_cell) { window._pyforest_update_imports_cell('from sklearn import metrics\\nfrom sklearn.preprocessing import MinMaxScaler\\nfrom sklearn.model_selection import GridSearchCV\\nimport os'); }\n",
       "    "
      ],
      "text/plain": [
       "<IPython.core.display.Javascript object>"
      ]
     },
     "metadata": {},
     "output_type": "display_data"
    },
    {
     "data": {
      "application/javascript": [
       "\n",
       "        if (window._pyforest_update_imports_cell) { window._pyforest_update_imports_cell('from sklearn import metrics\\nfrom sklearn.preprocessing import MinMaxScaler\\nfrom sklearn.model_selection import GridSearchCV\\nimport os'); }\n",
       "    "
      ],
      "text/plain": [
       "<IPython.core.display.Javascript object>"
      ]
     },
     "metadata": {},
     "output_type": "display_data"
    },
    {
     "name": "stdout",
     "output_type": "stream",
     "text": [
      "random_forest evaluations:  accuracy = 0.7209302325581395, f1 = 0.8356164383561643, auc= 0.4992897727272727\n"
     ]
    },
    {
     "data": {
      "application/javascript": [
       "\n",
       "        if (window._pyforest_update_imports_cell) { window._pyforest_update_imports_cell('from sklearn import metrics\\nfrom sklearn.preprocessing import MinMaxScaler\\nfrom sklearn.model_selection import GridSearchCV\\nimport os'); }\n",
       "    "
      ],
      "text/plain": [
       "<IPython.core.display.Javascript object>"
      ]
     },
     "metadata": {},
     "output_type": "display_data"
    },
    {
     "data": {
      "application/javascript": [
       "\n",
       "        if (window._pyforest_update_imports_cell) { window._pyforest_update_imports_cell('from sklearn import metrics\\nfrom sklearn.preprocessing import MinMaxScaler\\nfrom sklearn.model_selection import GridSearchCV\\nimport os'); }\n",
       "    "
      ],
      "text/plain": [
       "<IPython.core.display.Javascript object>"
      ]
     },
     "metadata": {},
     "output_type": "display_data"
    },
    {
     "data": {
      "application/javascript": [
       "\n",
       "        if (window._pyforest_update_imports_cell) { window._pyforest_update_imports_cell('from sklearn import metrics\\nfrom sklearn.preprocessing import MinMaxScaler\\nfrom sklearn.model_selection import GridSearchCV\\nimport os'); }\n",
       "    "
      ],
      "text/plain": [
       "<IPython.core.display.Javascript object>"
      ]
     },
     "metadata": {},
     "output_type": "display_data"
    },
    {
     "data": {
      "application/javascript": [
       "\n",
       "        if (window._pyforest_update_imports_cell) { window._pyforest_update_imports_cell('from sklearn import metrics\\nfrom sklearn.preprocessing import MinMaxScaler\\nfrom sklearn.model_selection import GridSearchCV\\nimport os'); }\n",
       "    "
      ],
      "text/plain": [
       "<IPython.core.display.Javascript object>"
      ]
     },
     "metadata": {},
     "output_type": "display_data"
    },
    {
     "data": {
      "application/javascript": [
       "\n",
       "        if (window._pyforest_update_imports_cell) { window._pyforest_update_imports_cell('from sklearn import metrics\\nfrom sklearn.preprocessing import MinMaxScaler\\nfrom sklearn.model_selection import GridSearchCV\\nimport os'); }\n",
       "    "
      ],
      "text/plain": [
       "<IPython.core.display.Javascript object>"
      ]
     },
     "metadata": {},
     "output_type": "display_data"
    },
    {
     "name": "stdout",
     "output_type": "stream",
     "text": [
      "Xgboost evaluations:  accuracy = 0.7674418604651163, f1 = 0.8591549295774649, auc= 0.5901988636363636\n"
     ]
    }
   ],
   "source": [
    "print('logistic evaluations: ', eval_metrics(y_test, ylog_predict))\n",
    "print('decision_tree evaluations: ',eval_metrics(y_test, ytree_predict))\n",
    "print('random_forest evaluations: ',eval_metrics(y_test, yforest_predict))\n",
    "print('Xgboost evaluations: ',eval_metrics(y_test, yxgb_predict))"
   ]
  },
  {
   "cell_type": "markdown",
   "id": "1470f790",
   "metadata": {},
   "source": [
    "## Serialization and Deserialization"
   ]
  },
  {
   "cell_type": "code",
   "execution_count": 163,
   "id": "0dfb355b",
   "metadata": {},
   "outputs": [
    {
     "name": "stdout",
     "output_type": "stream",
     "text": [
      "Save model_log as model_log_v1.pkl\n",
      "Save model_tree as model_tree_v1.pkl\n",
      "Save model_forest as model_forest_v1.pkl\n",
      "Save model_xgb as model_xgb_v1.pkl\n"
     ]
    }
   ],
   "source": [
    "#serialization (save models)\n",
    "import joblib\n",
    "\n",
    "models = [model_log, model_tree, model_forest, model_xgb]\n",
    "models_names = ['model_log', 'model_tree', 'model_forest', 'model_xgb']\n",
    "\n",
    "#SAVE Each model with unique name\n",
    "for model, name in zip(models, models_names):\n",
    "    filename = f\"{name}_v1.pkl\"\n",
    "    joblib.dump(model, filename)\n",
    "    print(f\"Save {name} as {filename}\")"
   ]
  },
  {
   "cell_type": "code",
   "execution_count": 164,
   "id": "2733b96a",
   "metadata": {},
   "outputs": [],
   "source": [
    "#deserialization (load model)\n",
    "log_model = joblib.load('model_log_v1.pkl')"
   ]
  },
  {
   "cell_type": "code",
   "execution_count": 165,
   "id": "bf8a4372",
   "metadata": {},
   "outputs": [
    {
     "data": {
      "text/plain": [
       "GridSearchCV(cv=5, estimator=LogisticRegression(random_state=1), n_jobs=-1,\n",
       "             param_grid={'C': [100, 10, 1.0, 0.1, 0.01],\n",
       "                         'penalty': ['l1', 'l2'], 'solver': ['liblinear']},\n",
       "             scoring='accuracy')"
      ]
     },
     "execution_count": 165,
     "metadata": {},
     "output_type": "execute_result"
    }
   ],
   "source": [
    "log_model"
   ]
  },
  {
   "cell_type": "code",
   "execution_count": 166,
   "id": "f6c488bf",
   "metadata": {},
   "outputs": [
    {
     "data": {
      "text/plain": [
       "GridSearchCV(cv=5, estimator=LogisticRegression(random_state=1), n_jobs=-1,\n",
       "             param_grid={'C': [100, 10, 1.0, 0.1, 0.01],\n",
       "                         'penalty': ['l1', 'l2'], 'solver': ['liblinear']},\n",
       "             scoring='accuracy')"
      ]
     },
     "execution_count": 166,
     "metadata": {},
     "output_type": "execute_result"
    }
   ],
   "source": [
    "model_log"
   ]
  },
  {
   "cell_type": "markdown",
   "id": "6dab3b92",
   "metadata": {},
   "source": [
    "**Need to create test script on model file**, which is not in jupyter notebook. \n",
    "* Use pytest (.py) to test python code to confirm that model actually working. \n",
    "* IPython notebook contains all steps, we cannot use this in production environment because **it is difficult to debug, Require changes in multiple changes, Lots of dependencies, no modularity in the code, which can executed independently, conflict with variable and function, Duplicate Code snippets.**  \n",
    "*Solution:   \n",
    "- Write python script\n",
    "- Follow Modular Programming\n",
    "- Create Package"
   ]
  },
  {
   "cell_type": "markdown",
   "id": "b939bab5",
   "metadata": {},
   "source": [
    "**Modular programming**  \n",
    "- An approach where code is divided into separate files, where each file has everything necessary to execute a defined piece of logic. & return expected ouput when imported by other files for them\n",
    "\n",
    "**Model**  \n",
    "- A Python file that can hold function, class and variables\n",
    "\n",
    "**Package**  \n",
    "- One or more modules, such that they are interlink with each other\n",
    "- Must contain *__init__.py* to treat as package"
   ]
  },
  {
   "cell_type": "code",
   "execution_count": 58,
   "id": "45f2f069",
   "metadata": {},
   "outputs": [
    {
     "data": {
      "text/plain": [
       "['/Users/siriluk/Desktop/MLOps_Boostcamp/Packaging-ML-Model/Packaging_ML_Projects/Classification_online_food/Experiments',\n",
       " '/Users/siriluk/opt/anaconda3/lib/python39.zip',\n",
       " '/Users/siriluk/opt/anaconda3/lib/python3.9',\n",
       " '/Users/siriluk/opt/anaconda3/lib/python3.9/lib-dynload',\n",
       " '',\n",
       " '/Users/siriluk/opt/anaconda3/lib/python3.9/site-packages',\n",
       " '/Users/siriluk/opt/anaconda3/lib/python3.9/site-packages/aeosa',\n",
       " '/Users/siriluk/opt/anaconda3/lib/python3.9/site-packages/IPython/extensions',\n",
       " '/Users/siriluk/.ipython']"
      ]
     },
     "execution_count": 58,
     "metadata": {},
     "output_type": "execute_result"
    }
   ],
   "source": [
    "import sys\n",
    "sys.path"
   ]
  },
  {
   "cell_type": "code",
   "execution_count": null,
   "id": "2ab863b7",
   "metadata": {},
   "outputs": [],
   "source": [
    "sys.path.append(\"/path/to/folder\")"
   ]
  },
  {
   "cell_type": "code",
   "execution_count": 3,
   "id": "f722b8f6",
   "metadata": {},
   "outputs": [
    {
     "name": "stdout",
     "output_type": "stream",
     "text": [
      "Numpy version: 1.26.4\n",
      "Pandas version: 1.4.4\n",
      "Joblib version: 1.1.0\n",
      "Scikit-learn version: 1.0.2\n",
      "Scipy version: 1.12.0\n",
      "Setuptools version: 63.4.1\n",
      "Wheel version: 0.37.1\n",
      "Pytest version: 8.1.1\n"
     ]
    }
   ],
   "source": [
    "# Check version of library that we use\n",
    "import numpy as np\n",
    "import pandas as pd\n",
    "import joblib\n",
    "import sklearn\n",
    "import scipy\n",
    "import setuptools\n",
    "import wheel\n",
    "import pytest\n",
    "\n",
    "print(\"Numpy version:\", np.__version__)\n",
    "print(\"Pandas version:\", pd.__version__)\n",
    "print(\"Joblib version:\", joblib.__version__)\n",
    "print(\"Scikit-learn version:\", sklearn.__version__)\n",
    "print(\"Scipy version:\", scipy.__version__)\n",
    "print(\"Setuptools version:\", setuptools.__version__)\n",
    "print(\"Wheel version:\", wheel.__version__)\n",
    "print(\"Pytest version:\", pytest.__version__)"
   ]
  },
  {
   "cell_type": "code",
   "execution_count": 4,
   "id": "84b57e10",
   "metadata": {},
   "outputs": [
    {
     "data": {
      "text/plain": [
       "'2.0.3'"
      ]
     },
     "execution_count": 4,
     "metadata": {},
     "output_type": "execute_result"
    }
   ],
   "source": [
    "import xgboost as xgb\n",
    "xgb.__version__"
   ]
  },
  {
   "cell_type": "code",
   "execution_count": 5,
   "id": "8e972aaf",
   "metadata": {},
   "outputs": [
    {
     "name": "stdout",
     "output_type": "stream",
     "text": [
      "Matplotlib version: 3.5.2\n"
     ]
    }
   ],
   "source": [
    "import matplotlib\n",
    "\n",
    "print(\"Matplotlib version:\", matplotlib.__version__)"
   ]
  },
  {
   "cell_type": "code",
   "execution_count": 6,
   "id": "6e7b4755",
   "metadata": {},
   "outputs": [
    {
     "name": "stdout",
     "output_type": "stream",
     "text": [
      "Numpy version: 1.26.4\n",
      "Pandas version: 1.4.4\n",
      "Joblib version: 1.1.0\n",
      "Scikit-learn version: 1.0.2\n",
      "Scipy version: 1.12.0\n",
      "Setuptools version: 63.4.1\n",
      "Wheel version: 0.37.1\n",
      "Pytest version: 8.1.1\n"
     ]
    }
   ],
   "source": [
    "# Check version of library that we use\n",
    "import numpy as np\n",
    "import pandas as pd\n",
    "import joblib\n",
    "import sklearn\n",
    "import scipy\n",
    "import setuptools\n",
    "import wheel\n",
    "import pytest\n",
    "\n",
    "print(\"Numpy version:\", np.__version__)\n",
    "print(\"Pandas version:\", pd.__version__)\n",
    "print(\"Joblib version:\", joblib.__version__)\n",
    "print(\"Scikit-learn version:\", sklearn.__version__)\n",
    "print(\"Scipy version:\", scipy.__version__)\n",
    "print(\"Setuptools version:\", setuptools.__version__)\n",
    "print(\"Wheel version:\", wheel.__version__)\n",
    "print(\"Pytest version:\", pytest.__version__)"
   ]
  },
  {
   "cell_type": "code",
   "execution_count": null,
   "id": "156b609e",
   "metadata": {},
   "outputs": [],
   "source": []
  }
 ],
 "metadata": {
  "kernelspec": {
   "display_name": "Python 3 (ipykernel)",
   "language": "python",
   "name": "python3"
  },
  "language_info": {
   "codemirror_mode": {
    "name": "ipython",
    "version": 3
   },
   "file_extension": ".py",
   "mimetype": "text/x-python",
   "name": "python",
   "nbconvert_exporter": "python",
   "pygments_lexer": "ipython3",
   "version": "3.9.13"
  }
 },
 "nbformat": 4,
 "nbformat_minor": 5
}
